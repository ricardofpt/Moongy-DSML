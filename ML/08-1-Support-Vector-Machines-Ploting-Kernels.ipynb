{
 "cells": [
  {
   "cell_type": "code",
   "execution_count": null,
   "metadata": {},
   "outputs": [],
   "source": [
    "import pandas as pd # for reading the data\n",
    "from sklearn.preprocessing import MinMaxScaler # for data standardization\n",
    "from sklearn.model_selection import train_test_split # to split the data into train and test parts\n",
    "from sklearn.preprocessing import LabelEncoder, OrdinalEncoder # to encode the data to numerical\n",
    "from sklearn import svm, datasets\n",
    "from sklearn.metrics import confusion_matrix, accuracy_score, precision_score, recall_score, \\\n",
    "f1_score, classification_report, cohen_kappa_score, matthews_corrcoef, log_loss, \\\n",
    "ConfusionMatrixDisplay\n",
    "from sklearn.model_selection import GridSearchCV # for cross validation\n",
    "import matplotlib.pyplot as plt\n",
    "import seaborn as sns\n",
    "sns.set()\n",
    "\n",
    "# A function that would plot for us the decision regions of a problem\n",
    "# You have to install this package beforehand\n",
    "from mlxtend.plotting import plot_decision_regions\n",
    "\n",
    "# This library will be used to measure the difference in times between the start and the end of a process\n",
    "import time\n",
    "import numpy as np"
   ]
  },
  {
   "cell_type": "markdown",
   "metadata": {},
   "source": [
    "## Data Preprocessing"
   ]
  },
  {
   "cell_type": "markdown",
   "metadata": {},
   "source": [
    "#### Load the data in pandas data frame"
   ]
  },
  {
   "cell_type": "code",
   "execution_count": null,
   "metadata": {},
   "outputs": [],
   "source": [
    "data_raw = pd.read_csv(\"data/social.csv\", dtype = str)\n",
    "data_raw.head()"
   ]
  },
  {
   "cell_type": "markdown",
   "metadata": {},
   "source": [
    "#### Explore the data "
   ]
  },
  {
   "cell_type": "code",
   "execution_count": null,
   "metadata": {},
   "outputs": [],
   "source": [
    "#Explore the distribution of the two classes. \n",
    "#The two classes are slightly unbalanced, with the not-purchased class being around 0.65 of all targets. \n",
    "#Such inbalance is to be expected, in reality most of the people looking at an online add will not buy the product.\n",
    "#In fact churn rates of 1 to 5% are most common. \n",
    "# Here 0 means no purchase\n",
    "#      1 means purchased\n",
    "data_raw['Purchased'].value_counts(normalize = True)"
   ]
  },
  {
   "cell_type": "code",
   "execution_count": null,
   "metadata": {},
   "outputs": [],
   "source": [
    "#Explore the data types\n",
    "#all the columns are of type object. This will not be ideal for the plotting at the end of the assignments. \n",
    "#That's why we need to cast them to numerical values.\n",
    "print(data_raw.dtypes)"
   ]
  },
  {
   "cell_type": "code",
   "execution_count": null,
   "metadata": {},
   "outputs": [],
   "source": [
    "#Before the data type transformation, we decide to drop the User ID and Gender column from our data,\n",
    "# as they will likely not contribute to our decision\n",
    "data = data_raw.drop(['User ID', 'Gender'], axis = 1)"
   ]
  },
  {
   "cell_type": "code",
   "execution_count": null,
   "metadata": {},
   "outputs": [],
   "source": [
    "data"
   ]
  },
  {
   "cell_type": "code",
   "execution_count": null,
   "metadata": {},
   "outputs": [],
   "source": [
    "#Cast remaining data columns to floats or int\n",
    "data[\"Age\"] = data[\"Age\"].astype(float)\n",
    "data[\"EstimatedSalary\"] = data[\"EstimatedSalary\"].astype(float)\n",
    "data[\"Purchased\"] = data[\"Purchased\"].astype(int)"
   ]
  },
  {
   "cell_type": "code",
   "execution_count": null,
   "metadata": {},
   "outputs": [],
   "source": [
    "#check to see if we've worked correctly\n",
    "print(data.dtypes)"
   ]
  },
  {
   "cell_type": "code",
   "execution_count": null,
   "metadata": {},
   "outputs": [],
   "source": [
    "#Check for missing values. There are none. This means we can proceed.\n",
    "data.isnull().sum()"
   ]
  },
  {
   "cell_type": "markdown",
   "metadata": {},
   "source": [
    "### Split the data into targets and inputs"
   ]
  },
  {
   "cell_type": "code",
   "execution_count": null,
   "metadata": {},
   "outputs": [],
   "source": [
    "target = data['Purchased']\n",
    "inputs = data.drop(['Purchased'],axis=1)"
   ]
  },
  {
   "cell_type": "markdown",
   "metadata": {},
   "source": [
    "### Split the data into train and test sets"
   ]
  },
  {
   "cell_type": "code",
   "execution_count": null,
   "metadata": {},
   "outputs": [],
   "source": [
    "x_train, x_test, y_train, y_test = train_test_split(inputs, target, test_size=0.3, random_state=365, stratify = target)"
   ]
  },
  {
   "cell_type": "code",
   "execution_count": null,
   "metadata": {},
   "outputs": [],
   "source": [
    "#check the result of the stratification\n",
    "pd.Series(y_train).value_counts(normalize = True)"
   ]
  },
  {
   "cell_type": "code",
   "execution_count": null,
   "metadata": {},
   "outputs": [],
   "source": [
    "#Rescale the features to [-1, 1] for the support vector classification\n",
    "scaling = MinMaxScaler(feature_range=(-1,1)).fit(x_train)\n",
    "x_train_rescaled = scaling.transform(x_train)"
   ]
  },
  {
   "cell_type": "markdown",
   "metadata": {},
   "source": [
    "### Classification with a linear SVM"
   ]
  },
  {
   "cell_type": "code",
   "execution_count": null,
   "metadata": {},
   "outputs": [],
   "source": [
    "C = 1.0\n",
    "svc = svm.SVC(kernel='linear', C=C)\n",
    "svc.fit(x_train_rescaled, y_train) #train the svm"
   ]
  },
  {
   "cell_type": "code",
   "execution_count": null,
   "metadata": {},
   "outputs": [],
   "source": [
    "y_pred_test = svc.predict(scaling.transform(x_test)) #predict on test data"
   ]
  },
  {
   "cell_type": "markdown",
   "metadata": {},
   "source": [
    "### Analyze the results of the SVM"
   ]
  },
  {
   "cell_type": "code",
   "execution_count": null,
   "metadata": {},
   "outputs": [],
   "source": [
    "#Analyze the results of the classifier first with the help of a confusion matrix\n",
    "#The purchased class is larger by default,\n",
    "#therefore, it is not surprising that there are more correctly assigned \"no purchase\" or class 0 instances.\n",
    "#However, with a rate of almost two and half more correct values in the TP of class 0, it is clear,\n",
    "#that this class is being recognised better from the classifer.\n",
    "\n",
    "# Drop the seaborn style, so that we remove the white lines passing throguh the numbers \n",
    "sns.reset_orig()\n",
    "\n",
    "fig, ax = plt.subplots(figsize=(8, 5))\n",
    "\n",
    "cmp = ConfusionMatrixDisplay(\n",
    "    confusion_matrix(y_test, y_pred_test),\n",
    "    display_labels=[\"No Purchase\", \"Purchase\"],\n",
    ")\n",
    "\n",
    "cmp.plot(ax=ax);"
   ]
  },
  {
   "cell_type": "code",
   "execution_count": null,
   "metadata": {},
   "outputs": [],
   "source": [
    "#The classification report of the linear classifer.\n",
    "#From the report we can see that the recall of the \"purchase\" class or class 0 is the lowest score, only 0.7.\n",
    "#On the other hand the recall for the 0 class is 0.92, which is a great result\n",
    "print(classification_report(y_test, y_pred_test, target_names = [\"Not Purchased\", \"Purchased\"]))"
   ]
  },
  {
   "cell_type": "markdown",
   "metadata": {},
   "source": [
    "## Ploting decision boundaries"
   ]
  },
  {
   "cell_type": "code",
   "execution_count": null,
   "metadata": {},
   "outputs": [],
   "source": [
    "knn_palette = sns.color_palette(['#FF5050', '#29757A'])\n",
    "knn_palette"
   ]
  },
  {
   "cell_type": "code",
   "execution_count": null,
   "metadata": {},
   "outputs": [],
   "source": [
    "%matplotlib inline\n",
    "sns.set()\n",
    "\n",
    "# Set the size of the figure\n",
    "plt.figure(figsize = (16, 9))\n",
    "\n",
    "# Create a scatter plot.\n",
    "# On the x-axis, we have the first feature.\n",
    "# The y-axis we have placed the second feature.\n",
    "# The 'data' parameter specifies the dataset we are drawing the columns from.\n",
    "# The 'hue' parameter specifies the feature based on which the points are going to be colored.\n",
    "# The 'palette' parameter specifies the colors to be used in the plot.\n",
    "# The 'markers' parameter determines the shape of the points.\n",
    "# The 'style' parameter connects markers to classes.\n",
    "# The 's' parameter specifies the size of the points.\n",
    "# The 'alpha' parameter controls the opacity of the datapoints.\n",
    "# We have decided to set the 'legend' parameter equal to False as we will make no use of it in this example.\n",
    "sns.scatterplot(x = 'Age', y = 'EstimatedSalary', \n",
    "                data = data, \n",
    "                hue = 'Purchased', \n",
    "                palette = knn_palette,\n",
    "                markers = ['^', 'P'],\n",
    "                style = 'Purchased', \n",
    "                s = 100, \n",
    "                alpha = 1,\n",
    "                legend = False);"
   ]
  },
  {
   "cell_type": "code",
   "execution_count": null,
   "metadata": {},
   "outputs": [],
   "source": [
    "# plot the decision regions\n",
    "\n",
    "start = time.time()\n",
    "\n",
    "plt.figure(figsize = (16, 9))\n",
    "\n",
    "plot_decision_regions(X = x_train_rescaled, y = y_train.to_numpy(), #cast the y_train variable to a numpy array\n",
    "                      clf = svc,\n",
    "                      markers = ['^', 'P'],\n",
    "                      colors = '#ff5050,#29757a',\n",
    "                      scatter_kwargs = {'s':100, 'edgecolor':'white', 'alpha':1},\n",
    "                      legend = 2)\n",
    ";\n",
    "\n",
    "end = time.time()"
   ]
  },
  {
   "cell_type": "markdown",
   "metadata": {},
   "source": [
    "### Polynomial kernel"
   ]
  },
  {
   "cell_type": "code",
   "execution_count": null,
   "metadata": {},
   "outputs": [],
   "source": [
    "svc_poly = svm.SVC(kernel='poly', C=10)\n",
    "svc_poly.fit(x_train_rescaled, y_train)"
   ]
  },
  {
   "cell_type": "code",
   "execution_count": null,
   "metadata": {},
   "outputs": [],
   "source": [
    "# plot the decision regions\n",
    "\n",
    "start = time.time()\n",
    "\n",
    "plt.figure(figsize = (16, 9))\n",
    "\n",
    "plot_decision_regions(X = x_train_rescaled, y = y_train.to_numpy(),\n",
    "                      clf = svc_poly,\n",
    "                      markers = ['^', 'P'],\n",
    "                      colors = '#ff5050,#29757a',\n",
    "                      scatter_kwargs = {'s':100, 'edgecolor':'white', 'alpha':1},\n",
    "                      legend = 2)\n",
    ";\n",
    "\n",
    "end = time.time()"
   ]
  },
  {
   "cell_type": "markdown",
   "metadata": {},
   "source": [
    "### Sigmoid kernel"
   ]
  },
  {
   "cell_type": "code",
   "execution_count": null,
   "metadata": {},
   "outputs": [],
   "source": [
    "svc_sigmoid = svm.SVC(kernel='sigmoid', C=10)\n",
    "svc_sigmoid.fit(x_train_rescaled, y_train)"
   ]
  },
  {
   "cell_type": "code",
   "execution_count": null,
   "metadata": {},
   "outputs": [],
   "source": [
    "# plot the decision regions\n",
    "\n",
    "start = time.time()\n",
    "\n",
    "plt.figure(figsize = (16, 9))\n",
    "\n",
    "plot_decision_regions(X = x_train_rescaled, y = y_train.to_numpy(),\n",
    "                      clf = svc_sigmoid,\n",
    "                      markers = ['^', 'P'],\n",
    "                      colors = '#ff5050,#29757a',\n",
    "                      scatter_kwargs = {'s':100, 'edgecolor':'white', 'alpha':1},\n",
    "                      legend = 2)\n",
    ";\n",
    "\n",
    "end = time.time()"
   ]
  },
  {
   "cell_type": "markdown",
   "metadata": {},
   "source": [
    "### Radial kernel"
   ]
  },
  {
   "cell_type": "code",
   "execution_count": null,
   "metadata": {},
   "outputs": [],
   "source": [
    "svc_radial = svm.SVC(kernel='rbf', C=10)\n",
    "svc_radial.fit(x_train_rescaled, y_train)"
   ]
  },
  {
   "cell_type": "code",
   "execution_count": null,
   "metadata": {},
   "outputs": [],
   "source": [
    "# plot the decision regions\n",
    "\n",
    "start = time.time()\n",
    "\n",
    "plt.figure(figsize = (16, 9))\n",
    "\n",
    "plot_decision_regions(X = x_train_rescaled, y = y_train.to_numpy(),\n",
    "                      clf = svc_radial,\n",
    "                      markers = ['^', 'P'],\n",
    "                      colors = '#ff5050,#29757a',\n",
    "                      scatter_kwargs = {'s':100, 'edgecolor':'white', 'alpha':1},\n",
    "                      legend = 2)\n",
    ";\n",
    "\n",
    "end = time.time()"
   ]
  },
  {
   "cell_type": "code",
   "execution_count": null,
   "metadata": {},
   "outputs": [],
   "source": []
  }
 ],
 "metadata": {
  "kernelspec": {
   "display_name": "Python 3 (ipykernel)",
   "language": "python",
   "name": "python3"
  },
  "language_info": {
   "codemirror_mode": {
    "name": "ipython",
    "version": 3
   },
   "file_extension": ".py",
   "mimetype": "text/x-python",
   "name": "python",
   "nbconvert_exporter": "python",
   "pygments_lexer": "ipython3",
   "version": "3.10.8"
  }
 },
 "nbformat": 4,
 "nbformat_minor": 4
}
