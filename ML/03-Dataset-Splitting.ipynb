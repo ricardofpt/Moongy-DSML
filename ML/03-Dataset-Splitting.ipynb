{
 "cells": [
  {
   "cell_type": "markdown",
   "metadata": {
    "tags": []
   },
   "source": [
    "## Dataset splitting\n",
    "\n",
    "Supervised machine learning is about creating models that precisely map the given inputs (independent variables, or **predictors**) to the given outputs (dependent variables, or **responses**).\n",
    "\n",
    "It's important to understand that you can't use the same data for training and testing the model, because that evaluation would be biased (meaning that you have to test with fresh data to properly assess if the model performs similarly with both datasets).\n",
    "\n",
    "On the road of creating your model, you'll have to fit it (aka train it); another advantage of splitting data in two datatsets is that it allows to detect if your model is **underfitting** (the model is unable to create correlations between your data points, i.e. is non-linear) or **overfitting** (the model has such liberty that it creates corelations that should not exist).\n",
    "\n",
    "Preferably, there should be three datasets: **training** (used to train or fit your model), **validation** (used for hyperparameter tuning of your model, i.e. experimenting with different options to find the best outcome possible) and **testing** (as the name implies, to finally test your model with fresh data).\n",
    "\n",
    "One of the ways to do this is by splitting the original dataset, and one particular package can help you with that task: `sklearn`."
   ]
  },
  {
   "cell_type": "code",
   "execution_count": null,
   "metadata": {},
   "outputs": [],
   "source": [
    "import numpy as np\n",
    "from sklearn.model_selection import train_test_split"
   ]
  },
  {
   "cell_type": "markdown",
   "metadata": {},
   "source": [
    "The `train_test_split` function has the following options:\n",
    "\n",
    "* `train_size` is the number that defines the size of the training set. If you provide a float, then it must be between 0.0 and 1.0 and will define the percentage of the dataset used for testing. If you provide an int, then it will represent the total number of the training samples. The default value is None.\n",
    "\n",
    "* `test_size` is the number that defines the size of the test set. It’s very similar to train_size. You should provide either train_size or test_size. If neither is given, then the default share of the dataset that will be used for testing is 0.25, or 25 percent.\n",
    "\n",
    "* `random_state` is the object that controls randomization during splitting. It's an int. The default value is None.\n",
    "\n",
    "* `shuffle` is the Boolean object (True by default) that determines whether to shuffle the dataset before applying the split."
   ]
  },
  {
   "cell_type": "markdown",
   "metadata": {},
   "source": [
    "### Simple example with a linear regression\n",
    "\n",
    "We'll create two datasets, x and y, create train and test sets for both, and then apply a linear regression between them."
   ]
  },
  {
   "cell_type": "code",
   "execution_count": null,
   "metadata": {},
   "outputs": [],
   "source": [
    "from sklearn.linear_model import LinearRegression\n",
    "\n",
    "# creating the datasets\n",
    "x = np.arange(20).reshape(-1, 1)\n",
    "y = np.array([5, 12, 11, 19, 30, 29, 23, 40, 51, 54, 74, 62, 68, 73, 89, 84, 89, 101, 99, 106])"
   ]
  },
  {
   "cell_type": "code",
   "execution_count": null,
   "metadata": {},
   "outputs": [],
   "source": [
    "x"
   ]
  },
  {
   "cell_type": "code",
   "execution_count": null,
   "metadata": {},
   "outputs": [],
   "source": [
    "y"
   ]
  },
  {
   "cell_type": "code",
   "execution_count": null,
   "metadata": {},
   "outputs": [],
   "source": [
    "# creating the train and test sets, with a test size of 8 observations (so the train will have a size of 12 observations) and without randomness.\n",
    "x_train, x_test, y_train, y_test = train_test_split(x, y, test_size=8, random_state=0)\n",
    "\n",
    "print(x_train)\n",
    "print()\n",
    "print(x_test)"
   ]
  },
  {
   "cell_type": "code",
   "execution_count": null,
   "metadata": {},
   "outputs": [],
   "source": [
    "# creating and fitting the model using the train datasets \n",
    "model = LinearRegression().fit(x_train, y_train)\n",
    "\n",
    "# looking at the best intercept and slope of the regression line\n",
    "print(model.intercept_)\n",
    "print(model.coef_)"
   ]
  },
  {
   "cell_type": "markdown",
   "metadata": {},
   "source": [
    "#### Using the test set to assess the performance of the model\n",
    "\n",
    "Let's checkout the model scores when using both sets:"
   ]
  },
  {
   "cell_type": "code",
   "execution_count": null,
   "metadata": {},
   "outputs": [],
   "source": [
    "print(model.score(x_train, y_train))\n",
    "print(model.score(x_test, y_test))"
   ]
  },
  {
   "cell_type": "markdown",
   "metadata": {},
   "source": [
    "`.score()` returns the coefficient of determination, or R², for the data passed. It's maximum is 1. The higher the R² value, the better the fit. In this case, the training data yields a slightly higher coefficient.\n",
    "\n",
    "Let's build a visualization of this difference to better understand it:"
   ]
  },
  {
   "cell_type": "code",
   "execution_count": null,
   "metadata": {},
   "outputs": [],
   "source": [
    "# the predict() method gives us the values to build the regression line\n",
    "y_pred = model.predict(x_test)\n",
    "\n",
    "# building the visualization with matplotlib\n",
    "import matplotlib.pyplot as plt\n",
    "\n",
    "plt.figure(figsize=(10,6))\n",
    "plt.scatter(x_train, y_train, c='coral', label='Train')\n",
    "plt.scatter(x_test, y_test, c='lightblue', label='Test')\n",
    "plt.plot(x_test, y_pred, color='grey')\n",
    "\n",
    "plt.legend()\n",
    "plt.title('Train/Test sets comparison')\n",
    "plt.xlabel('x')\n",
    "plt.ylabel('y')\n",
    "\n",
    "plt.show()"
   ]
  }
 ],
 "metadata": {
  "kernelspec": {
   "display_name": "Python 3 (ipykernel)",
   "language": "python",
   "name": "python3"
  },
  "language_info": {
   "codemirror_mode": {
    "name": "ipython",
    "version": 3
   },
   "file_extension": ".py",
   "mimetype": "text/x-python",
   "name": "python",
   "nbconvert_exporter": "python",
   "pygments_lexer": "ipython3",
   "version": "3.10.8"
  }
 },
 "nbformat": 4,
 "nbformat_minor": 4
}
