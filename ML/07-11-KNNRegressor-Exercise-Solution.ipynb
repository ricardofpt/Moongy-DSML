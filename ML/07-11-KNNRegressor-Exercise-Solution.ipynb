{
 "cells": [
  {
   "cell_type": "markdown",
   "id": "81cd422d",
   "metadata": {},
   "source": [
    "# Exercise - KNeighborsRegressor - Bike Sharing - Solution"
   ]
  },
  {
   "cell_type": "markdown",
   "id": "57371587",
   "metadata": {},
   "source": [
    "### Introducing the exercise"
   ]
  },
  {
   "cell_type": "markdown",
   "id": "8e8cdcab-c08e-40a9-abf9-d4542d6be013",
   "metadata": {},
   "source": [
    "This exercise uses the **bike sharing** dataset. The function of all features as well as the target is described in the **Readme.txt** file. The goal is to predict the count of total rental bikes using KNN's regressor and the OLS linear regression implemented in sklearn.\n",
    "\n",
    "https://scikit-learn.org/stable/modules/generated/sklearn.neighbors.KNeighborsRegressor.html#sklearn-neighbors-kneighborsregressor\n",
    "\n",
    "https://scikit-learn.org/stable/modules/generated/sklearn.linear_model.LinearRegression.html#sklearn-linear-model-linearregression\n",
    "\n",
    "The code implemented below reads the **day.csv** file located in the **data/bike-sharing-dataset** folder and stores the data in a **pandas** DataFrame. Some of the columns are omitted. The goal of predicting the count can be achieved by following the steps below.\n",
    "\n",
    "* One of the OLS assumptions is that each feature bears a linear dependency with the target. To check whether this condition is satisfied, create separate plots of **cnt** versus each of the six features. Choose two that bear a linear, or close to linear, dependency with the target.\n",
    "* Let these two features be the inputs and **cnt** be the target.\n",
    "* Create an 80:20 train-test split.\n",
    "* Having the features scaled is an essential part of working with the KNN algorithm. Make sure that the two features are scaled properly. You can use sklearn's StandardScaler() class.\n",
    "* Create instances of the KNeighborsRegressor and LinearRegression classes. For the KNeighborsRegressor model, try to find the number of neighbors that works best.\n",
    "* Fit the model to the training data.\n",
    "* Make predictions on the test data.\n",
    "* For each of the models, make a plot of the true test values versus the predicted test values. A perfect model would draw a 45-degree line. On both figures, plot a 45-degree line for a reference.\n",
    "* Return the R-squared value for both models. You can find out how to do that on the pages of the two regression algorithms. What is the R-squared value of a perfect model? Based on that, which of the two models performed better?\n",
    "\n",
    "https://scikit-learn.org/stable/modules/generated/sklearn.preprocessing.StandardScaler.html#sklearn-preprocessing-standardscaler\n",
    "\n",
    "Try to solve the exercise as best as you can.\n",
    "\n",
    "Have fun!"
   ]
  },
  {
   "cell_type": "markdown",
   "id": "09a8575d",
   "metadata": {},
   "source": [
    "### Import the relevant libraries"
   ]
  },
  {
   "cell_type": "code",
   "execution_count": null,
   "id": "aced224a",
   "metadata": {},
   "outputs": [],
   "source": [
    "import pandas as pd\n",
    "\n",
    "from sklearn.model_selection import train_test_split\n",
    "from sklearn.neighbors import KNeighborsRegressor\n",
    "from sklearn.linear_model import LinearRegression\n",
    "from sklearn.preprocessing import StandardScaler\n",
    "\n",
    "# This method will help us calculate the mean squared error for each model\n",
    "from sklearn.metrics import mean_squared_error\n",
    "\n",
    "import numpy as np\n",
    "\n",
    "import matplotlib.pyplot as plt\n",
    "import seaborn as sns"
   ]
  },
  {
   "cell_type": "markdown",
   "id": "8750765a",
   "metadata": {},
   "source": [
    "### Load the dataset and displaying the inputs"
   ]
  },
  {
   "cell_type": "code",
   "execution_count": null,
   "id": "7f08a2b9",
   "metadata": {},
   "outputs": [],
   "source": [
    "data = pd.read_csv('data/bike-sharing-dataset/day.csv').drop(['instant', \n",
    "                                                          'dteday', \n",
    "                                                          'season', \n",
    "                                                          'yr', \n",
    "                                                          'mnth', \n",
    "                                                          'holiday', \n",
    "                                                          'weekday', \n",
    "                                                          'weathersit', \n",
    "                                                          'workingday'], axis = 1)"
   ]
  },
  {
   "cell_type": "code",
   "execution_count": null,
   "id": "42810c9a",
   "metadata": {},
   "outputs": [],
   "source": [
    "data"
   ]
  },
  {
   "cell_type": "markdown",
   "id": "4ed4fab9",
   "metadata": {},
   "source": [
    "### Identify the features that bear a linear relation with the target"
   ]
  },
  {
   "cell_type": "code",
   "execution_count": null,
   "id": "4b6a9b48-c81e-4aef-a711-f1b4b5d4c0da",
   "metadata": {},
   "outputs": [],
   "source": [
    "f, (ax1, ax2, ax3, ax4, ax5, ax6) = plt.subplots(1, 6, sharey=True, figsize =(15,3)) #sharey -> share 'cnt' as y\n",
    "ax1.scatter(data['casual'],data['cnt'])\n",
    "ax1.set_title('cnt and Year')\n",
    "ax2.scatter(data['registered'],data['cnt'])\n",
    "ax2.set_title('cnt and registered')\n",
    "ax3.scatter(data['windspeed'],data['cnt'])\n",
    "ax3.set_title('cnt and windspeed')\n",
    "ax4.scatter(data['hum'],data['cnt'])\n",
    "ax4.set_title('cnt and hum')\n",
    "ax5.scatter(data['atemp'],data['cnt'])\n",
    "ax5.set_title('cnt and atemp')\n",
    "ax6.scatter(data['temp'],data['cnt'])\n",
    "ax6.set_title('cnt and temp')\n",
    "\n",
    "plt.show()"
   ]
  },
  {
   "cell_type": "code",
   "execution_count": null,
   "id": "8f5e7919",
   "metadata": {},
   "outputs": [],
   "source": [
    "sns.set()\n",
    "\n",
    "sns.scatterplot(data = data, x = 'casual', y = 'cnt');"
   ]
  },
  {
   "cell_type": "code",
   "execution_count": null,
   "id": "a383c9e1-d40f-4de3-a250-03acd392870d",
   "metadata": {},
   "outputs": [],
   "source": [
    "sns.set()\n",
    "\n",
    "sns.scatterplot(data = data, x = 'registered', y = 'cnt');"
   ]
  },
  {
   "cell_type": "markdown",
   "id": "099617a6",
   "metadata": {},
   "source": [
    "### Based on the results from above, define the inputs and the target. Create a train-test split"
   ]
  },
  {
   "cell_type": "code",
   "execution_count": null,
   "id": "bb0f8012",
   "metadata": {},
   "outputs": [],
   "source": [
    "inputs = data[['casual', 'registered']]\n",
    "target = data['cnt']"
   ]
  },
  {
   "cell_type": "code",
   "execution_count": null,
   "id": "8fce4f1d",
   "metadata": {},
   "outputs": [],
   "source": [
    "x_train, x_test, y_train, y_test = train_test_split(inputs, target, \n",
    "                                                    test_size=0.2, \n",
    "                                                    random_state=365)"
   ]
  },
  {
   "cell_type": "markdown",
   "id": "6a2bf289",
   "metadata": {},
   "source": [
    "### Scale the training and test data to zero mean and unit variance"
   ]
  },
  {
   "cell_type": "code",
   "execution_count": null,
   "id": "40be4a89",
   "metadata": {},
   "outputs": [],
   "source": [
    "scaler = StandardScaler()\n",
    "\n",
    "x_train_scaled = scaler.fit_transform(x_train)\n",
    "x_test_scaled = scaler.transform(x_test)"
   ]
  },
  {
   "cell_type": "markdown",
   "id": "93ee4230-f8ad-40e6-871a-808a354e5dd5",
   "metadata": {},
   "source": [
    "### Try to find the number of neighbors that works best"
   ]
  },
  {
   "cell_type": "code",
   "execution_count": null,
   "id": "72b7ffee-73c3-48c4-9a9a-d491bbb61db9",
   "metadata": {},
   "outputs": [],
   "source": [
    "k = 81\n",
    "\n",
    "# Create an array where all MSE values from the KNN regressions will be stored.\n",
    "mse_knn = []\n",
    "\n",
    "# Loop through all K-values\n",
    "for i in range(1, k):\n",
    "    \n",
    "    # Create an instance of the KNN regression for the specified value of K\n",
    "    reg_knn = KNeighborsRegressor(n_neighbors = i)\n",
    "    \n",
    "    # Fir the training data to the model\n",
    "    reg_knn.fit(x_train, y_train)\n",
    "    \n",
    "    # Make predictions on the test data\n",
    "    y_pred_knn = reg_knn.predict(x_test)\n",
    "    \n",
    "    # Calculate the MSE value for this regression and store it in the array\n",
    "    mse_knn.append(mean_squared_error(y_test, y_pred_knn))\n",
    "    \n",
    "# Set the seaborn visualization\n",
    "sns.set()\n",
    "\n",
    "# Create a placeholder for a figure\n",
    "fig, ax = plt.subplots()\n",
    "\n",
    "# Plot the MSE of the KNN regressions versus the value of K.\n",
    "# Choose a color for the line.\n",
    "# Use a marker to show the values of K.\n",
    "# Choose a color for the marker\n",
    "# Choose a label which will describe the line in the legend\n",
    "plt.plot(list(range(1, k)), \n",
    "         mse_knn, \n",
    "         color = 'red', \n",
    "         marker = 'o', \n",
    "         markerfacecolor = '#000C1F',\n",
    "         label = 'KNN')\n",
    "\n",
    "# Place the legend in the lower right corner\n",
    "ax.legend(loc='lower right')\n",
    "\n",
    "# Set a title and axes labes\n",
    "ax.set_title('Mean-Squared Error (MSE)')\n",
    "ax.set_xlabel('K')\n",
    "ax.set_ylabel('MSE')\n",
    "\n",
    "# Set a minimum value of the y-axis\n",
    "plt.ylim(0);"
   ]
  },
  {
   "cell_type": "markdown",
   "id": "abcd81de",
   "metadata": {},
   "source": [
    "The number of clusters that work best is 5.\n",
    "\n",
    "### Create the KNN and Linear regression models. Make predictions on the test data"
   ]
  },
  {
   "cell_type": "code",
   "execution_count": null,
   "id": "c80d890c",
   "metadata": {},
   "outputs": [],
   "source": [
    "reg_knn = KNeighborsRegressor(n_neighbors = 5)\n",
    "reg_knn.fit(x_train_scaled, y_train)\n",
    "y_test_pred_knn = reg_knn.predict(x_test_scaled)"
   ]
  },
  {
   "cell_type": "code",
   "execution_count": null,
   "id": "314519cd",
   "metadata": {},
   "outputs": [],
   "source": [
    "reg_lin = LinearRegression()\n",
    "reg_lin.fit(x_train_scaled, y_train)\n",
    "y_test_pred_lin = reg_lin.predict(x_test_scaled)"
   ]
  },
  {
   "cell_type": "markdown",
   "id": "e93abf87",
   "metadata": {},
   "source": [
    "### Plot the predicted values from both models versus the true values"
   ]
  },
  {
   "cell_type": "code",
   "execution_count": null,
   "id": "4c9489c2",
   "metadata": {},
   "outputs": [],
   "source": [
    "x = [50, 8000]\n",
    "y = [50, 8000]"
   ]
  },
  {
   "cell_type": "code",
   "execution_count": null,
   "id": "fa113023",
   "metadata": {},
   "outputs": [],
   "source": [
    "sns.set()\n",
    "\n",
    "plt.scatter(y_test, y_test_pred_knn)\n",
    "plt.plot(x, y,color = 'red')\n",
    "plt.xlabel('True values')\n",
    "plt.ylabel('Predicted values')\n",
    "plt.title('KNN Regressor');"
   ]
  },
  {
   "cell_type": "code",
   "execution_count": null,
   "id": "ef0a17f4",
   "metadata": {},
   "outputs": [],
   "source": [
    "sns.set()\n",
    "\n",
    "plt.scatter(y_test, y_test_pred_lin)\n",
    "plt.plot(x, y,color = 'red');\n",
    "plt.xlabel('True values')\n",
    "plt.ylabel('Predicted values')\n",
    "plt.title('Linear Regression');"
   ]
  },
  {
   "cell_type": "markdown",
   "id": "7109f0a5",
   "metadata": {},
   "source": [
    "### Calculate the R2 value for both models"
   ]
  },
  {
   "cell_type": "code",
   "execution_count": null,
   "id": "c9012882",
   "metadata": {},
   "outputs": [],
   "source": [
    "reg_knn.score(x_test_scaled, y_test), reg_lin.score(x_test_scaled, y_test)"
   ]
  }
 ],
 "metadata": {
  "kernelspec": {
   "display_name": "Python 3 (ipykernel)",
   "language": "python",
   "name": "python3"
  },
  "language_info": {
   "codemirror_mode": {
    "name": "ipython",
    "version": 3
   },
   "file_extension": ".py",
   "mimetype": "text/x-python",
   "name": "python",
   "nbconvert_exporter": "python",
   "pygments_lexer": "ipython3",
   "version": "3.10.8"
  }
 },
 "nbformat": 4,
 "nbformat_minor": 5
}
