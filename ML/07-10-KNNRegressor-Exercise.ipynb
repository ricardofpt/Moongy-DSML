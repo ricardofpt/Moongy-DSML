{
 "cells": [
  {
   "cell_type": "markdown",
   "id": "af89319d",
   "metadata": {},
   "source": [
    "# Exercise - KNeighborsRegressor - Bike Sharing"
   ]
  },
  {
   "cell_type": "markdown",
   "id": "57371587",
   "metadata": {},
   "source": [
    "### Introducing the exercise"
   ]
  },
  {
   "cell_type": "markdown",
   "id": "176a68e1",
   "metadata": {},
   "source": [
    "This exercise uses the **bike sharing** dataset. The function of all features as well as the target is described in the **Readme.txt** file. The goal is to predict the count of total rental bikes using KNN's regressor and the OLS linear regression implemented in sklearn.\n",
    "\n",
    "https://scikit-learn.org/stable/modules/generated/sklearn.neighbors.KNeighborsRegressor.html#sklearn-neighbors-kneighborsregressor\n",
    "\n",
    "https://scikit-learn.org/stable/modules/generated/sklearn.linear_model.LinearRegression.html#sklearn-linear-model-linearregression\n",
    "\n",
    "The code implemented below reads the **day.csv** file located in the **data/bike-sharing-dataset** folder and stores the data in a **pandas** DataFrame. Some of the columns are omitted. The goal of predicting the count can be achieved by following the steps below.\n",
    "\n",
    "* One of the OLS assumptions is that each feature bears a linear dependency with the target. To check whether this condition is satisfied, create separate plots of **cnt** versus each of the six features. Choose two that bear a linear, or close to linear, dependency with the target.\n",
    "* Let these two features be the inputs and **cnt** be the target.\n",
    "* Create an 80:20 train-test split.\n",
    "* Having the features scaled is an essential part of working with the KNN algorithm. Make sure that the two features are scaled properly. You can use sklearn's StandardScaler() class.\n",
    "* Create instances of the KNeighborsRegressor and LinearRegression classes. For the KNeighborsRegressor model, try to find the number of neighbors that works best.\n",
    "* Fit the model to the training data.\n",
    "* Make predictions on the test data.\n",
    "* For each of the models, make a plot of the true test values versus the predicted test values. A perfect model would draw a 45-degree line. On both figures, plot a 45-degree line for a reference.\n",
    "* Return the R-squared value for both models. You can find out how to do that on the pages of the two regression algorithms. What is the R-squared value of a perfect model? Based on that, which of the two models performed better?\n",
    "\n",
    "https://scikit-learn.org/stable/modules/generated/sklearn.preprocessing.StandardScaler.html#sklearn-preprocessing-standardscaler\n",
    "\n",
    "Try to solve the exercise as best as you can.\n",
    "\n",
    "Have fun!"
   ]
  },
  {
   "cell_type": "markdown",
   "id": "09a8575d",
   "metadata": {},
   "source": [
    "### Import the relevant libraries"
   ]
  },
  {
   "cell_type": "code",
   "execution_count": null,
   "id": "13ee4600",
   "metadata": {},
   "outputs": [],
   "source": [
    "import pandas as pd"
   ]
  },
  {
   "cell_type": "markdown",
   "id": "8750765a",
   "metadata": {},
   "source": [
    "### Load the dataset and displaying the inputs"
   ]
  },
  {
   "cell_type": "code",
   "execution_count": null,
   "id": "66b58216",
   "metadata": {},
   "outputs": [],
   "source": [
    "data = pd.read_csv('data/bike-sharing-dataset/day.csv').drop(['instant', \n",
    "                                                          'dteday', \n",
    "                                                          'season', \n",
    "                                                          'yr', \n",
    "                                                          'mnth', \n",
    "                                                          'holiday', \n",
    "                                                          'weekday', \n",
    "                                                          'weathersit', \n",
    "                                                          'workingday'], axis = 1)"
   ]
  },
  {
   "cell_type": "code",
   "execution_count": null,
   "id": "8a009e7e",
   "metadata": {},
   "outputs": [],
   "source": [
    "data"
   ]
  },
  {
   "cell_type": "markdown",
   "id": "65289937",
   "metadata": {},
   "source": [
    "### Your turn :)"
   ]
  },
  {
   "cell_type": "code",
   "execution_count": null,
   "id": "c744b77b",
   "metadata": {},
   "outputs": [],
   "source": []
  }
 ],
 "metadata": {
  "kernelspec": {
   "display_name": "Python 3 (ipykernel)",
   "language": "python",
   "name": "python3"
  },
  "language_info": {
   "codemirror_mode": {
    "name": "ipython",
    "version": 3
   },
   "file_extension": ".py",
   "mimetype": "text/x-python",
   "name": "python",
   "nbconvert_exporter": "python",
   "pygments_lexer": "ipython3",
   "version": "3.10.5"
  }
 },
 "nbformat": 4,
 "nbformat_minor": 5
}
