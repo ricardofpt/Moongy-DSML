{
 "cells": [
  {
   "cell_type": "markdown",
   "id": "6a4dea52",
   "metadata": {},
   "source": [
    "# Categorical Support Vector Classifier\n",
    "\n",
    "In this example we will use a dataset about mushrooms, and the goal of the classifier is to determine which ones are edible and which ones are poisonous based on their features.\n",
    "\n",
    "The first column is the dependent variable, and the one we'll be trying to predict. "
   ]
  },
  {
   "cell_type": "markdown",
   "id": "96cdade7",
   "metadata": {},
   "source": [
    "## Imports"
   ]
  },
  {
   "cell_type": "code",
   "execution_count": null,
   "id": "27fe5f67",
   "metadata": {},
   "outputs": [],
   "source": [
    "import pandas as pd \n",
    "from sklearn.preprocessing import MinMaxScaler # to standardize the data\n",
    "from sklearn.model_selection import train_test_split \n",
    "from sklearn.preprocessing import LabelEncoder, OrdinalEncoder # to encode the categorical data into numerical values\n",
    "from sklearn import svm # the support vector machine algorithms\n",
    "import matplotlib.pyplot as plt \n",
    "from sklearn.metrics import confusion_matrix, accuracy_score, precision_score, recall_score, \\\n",
    "f1_score, classification_report,ConfusionMatrixDisplay # for model evaluation\n",
    "from sklearn.model_selection import GridSearchCV # for cross-validation and parameter tuning"
   ]
  },
  {
   "cell_type": "markdown",
   "id": "7e71d828",
   "metadata": {},
   "source": [
    "## Loading the database"
   ]
  },
  {
   "cell_type": "markdown",
   "id": "44c9be39",
   "metadata": {},
   "source": [
    "#### Read the csv file and study the database"
   ]
  },
  {
   "cell_type": "code",
   "execution_count": null,
   "id": "3e57e0b3",
   "metadata": {},
   "outputs": [],
   "source": [
    "mushroom_data = pd.read_csv(\"data/mushrooms-full-dataset.csv\", dtype = str)\n",
    "mushroom_data.head()"
   ]
  },
  {
   "cell_type": "code",
   "execution_count": null,
   "id": "60c6c0be",
   "metadata": {},
   "outputs": [],
   "source": [
    "mushroom_data['poisonous'].value_counts()"
   ]
  },
  {
   "cell_type": "code",
   "execution_count": null,
   "id": "0b067c67",
   "metadata": {},
   "outputs": [],
   "source": [
    "mushroom_data.isnull().sum()"
   ]
  },
  {
   "cell_type": "markdown",
   "id": "4c139724",
   "metadata": {},
   "source": [
    "## Preprocessing"
   ]
  },
  {
   "cell_type": "markdown",
   "id": "c61a25ee",
   "metadata": {},
   "source": [
    "#### Define the target and the inputs"
   ]
  },
  {
   "cell_type": "code",
   "execution_count": null,
   "id": "33197daf",
   "metadata": {},
   "outputs": [],
   "source": [
    "target = mushroom_data['poisonous']\n",
    "inputs = mushroom_data.drop(['poisonous'],axis=1)"
   ]
  },
  {
   "cell_type": "markdown",
   "id": "a1b30a99",
   "metadata": {},
   "source": [
    "#### Create a training and a testing dataset"
   ]
  },
  {
   "cell_type": "code",
   "execution_count": null,
   "id": "20cf6045",
   "metadata": {},
   "outputs": [],
   "source": [
    "x_train, x_test, y_train, y_test = train_test_split(inputs, target, test_size=0.2, random_state=365, stratify = target)"
   ]
  },
  {
   "cell_type": "markdown",
   "id": "6ebc6036",
   "metadata": {},
   "source": [
    "#### Check the result from the stratification"
   ]
  },
  {
   "cell_type": "code",
   "execution_count": null,
   "id": "cc10885a",
   "metadata": {},
   "outputs": [],
   "source": [
    "y_train.value_counts(normalize = True)"
   ]
  },
  {
   "cell_type": "code",
   "execution_count": null,
   "id": "bad469f5",
   "metadata": {
    "scrolled": true
   },
   "outputs": [],
   "source": [
    "pd.Series(y_test).value_counts(normalize = True)"
   ]
  },
  {
   "cell_type": "markdown",
   "id": "f679a56f",
   "metadata": {},
   "source": [
    "#### Define a separate encoder for the target and the inputs "
   ]
  },
  {
   "cell_type": "code",
   "execution_count": null,
   "id": "e49850b4",
   "metadata": {},
   "outputs": [],
   "source": [
    "enc_t = LabelEncoder() # preserves the values of the target labels ('e' for edible and 'p' for poisonous)\n",
    "enc_i = OrdinalEncoder() # just transforms categorical data into numericals, without preserving the values"
   ]
  },
  {
   "cell_type": "markdown",
   "id": "634cba50",
   "metadata": {},
   "source": [
    "#### Apply the fit_transform() method on the training data and the transform() method on the test data."
   ]
  },
  {
   "cell_type": "code",
   "execution_count": null,
   "id": "0f6728dc",
   "metadata": {},
   "outputs": [],
   "source": [
    "x_train_transf = enc_i.fit_transform(x_train)\n",
    "x_test_transf = enc_i.transform(x_test)\n",
    "\n",
    "y_train_transf = enc_t.fit_transform(y_train)\n",
    "y_test_transf = enc_t.transform(y_test)"
   ]
  },
  {
   "cell_type": "code",
   "execution_count": null,
   "id": "c8a2f71f",
   "metadata": {},
   "outputs": [],
   "source": [
    "# just checking if the encoding was successfull\n",
    "y_train_transf"
   ]
  },
  {
   "cell_type": "code",
   "execution_count": null,
   "id": "501df04c",
   "metadata": {},
   "outputs": [],
   "source": [
    "# just checking if the encoding was successfull\n",
    "x_train_transf"
   ]
  },
  {
   "cell_type": "markdown",
   "id": "499e8596",
   "metadata": {},
   "source": [
    "## Rescaling"
   ]
  },
  {
   "cell_type": "markdown",
   "id": "0e51be09",
   "metadata": {},
   "source": [
    "> __Important__: in order for the SVC to work correctly the inputs (but not the targets) need to be rescaled to the range (-1, 1)"
   ]
  },
  {
   "cell_type": "code",
   "execution_count": null,
   "id": "989d96bd",
   "metadata": {},
   "outputs": [],
   "source": [
    "scaling = MinMaxScaler(feature_range=(-1,1)).fit(x_train_transf)\n",
    "x_train_rescaled = scaling.transform(x_train_transf)\n",
    "x_test_rescaled = scaling.transform(x_test_transf)"
   ]
  },
  {
   "cell_type": "markdown",
   "id": "3b2f2925",
   "metadata": {},
   "source": [
    "## Classification\n",
    "\n",
    "We'll start off by trying a linear SVM."
   ]
  },
  {
   "cell_type": "code",
   "execution_count": null,
   "id": "781ebf93",
   "metadata": {},
   "outputs": [],
   "source": [
    "C = 1.0 # the parameter that helps us decide how wide the margins are\n",
    "svc = svm.SVC(kernel='linear', C=C).fit(x_train_rescaled, y_train_transf)"
   ]
  },
  {
   "cell_type": "code",
   "execution_count": null,
   "id": "1486cedd",
   "metadata": {},
   "outputs": [],
   "source": [
    "enc_t.classes_"
   ]
  },
  {
   "cell_type": "markdown",
   "id": "dc39a4bd",
   "metadata": {},
   "source": [
    "### Create a new dataframe with the encoded variables"
   ]
  },
  {
   "cell_type": "markdown",
   "id": "cb6a11ff",
   "metadata": {},
   "source": [
    "features_list = data.columns[:-1]\n",
    "features_list"
   ]
  },
  {
   "cell_type": "markdown",
   "id": "08505b8c",
   "metadata": {},
   "source": [
    "data_enc = pd.DataFrame(inputs_enc, columns = features_list)\n",
    "data_enc['poisonous'] = target_enc\n",
    "data_enc"
   ]
  },
  {
   "cell_type": "markdown",
   "id": "3fa057fc",
   "metadata": {},
   "source": [
    "## Evaluation"
   ]
  },
  {
   "cell_type": "markdown",
   "id": "ed5b0150",
   "metadata": {},
   "source": [
    "#### Evaluate the model on the test data"
   ]
  },
  {
   "cell_type": "code",
   "execution_count": null,
   "id": "178d62e1",
   "metadata": {},
   "outputs": [],
   "source": [
    "y_pred_test = svc.predict(x_test_rescaled)"
   ]
  },
  {
   "cell_type": "code",
   "execution_count": null,
   "id": "a19d1a3d",
   "metadata": {},
   "outputs": [],
   "source": [
    "fig, ax = plt.subplots(figsize=(8, 5))\n",
    "\n",
    "cmp = ConfusionMatrixDisplay(\n",
    "    confusion_matrix(y_test_transf, y_pred_test),\n",
    "    display_labels=[\"Edible\", \"Poisonous\"],\n",
    ")\n",
    "\n",
    "cmp.plot(ax=ax);"
   ]
  },
  {
   "cell_type": "code",
   "execution_count": null,
   "id": "f26b1478",
   "metadata": {},
   "outputs": [],
   "source": [
    "print(classification_report(y_test_transf, y_pred_test, target_names = [\"Edible\", \"Poisonous\"]))"
   ]
  },
  {
   "cell_type": "markdown",
   "id": "55a48724",
   "metadata": {},
   "source": [
    "## Hyperparameter Tuning with GridSearchCV"
   ]
  },
  {
   "cell_type": "markdown",
   "id": "a6f413c9",
   "metadata": {},
   "source": [
    "#### Choose the best kernel and optimal C parameter based on Cross Validation of the training data"
   ]
  },
  {
   "cell_type": "code",
   "execution_count": null,
   "id": "5e777e69",
   "metadata": {},
   "outputs": [],
   "source": [
    "tuned_parameters = [\n",
    "    {\"kernel\": [\"linear\"], \"C\": [1, 10]},\n",
    "    {\"kernel\": [\"poly\"], \"C\":[1, 10]},\n",
    "    {\"kernel\": [\"rbf\"], \"gamma\": [1e-3, 1e-4], \"C\": [1, 10]}\n",
    "]"
   ]
  },
  {
   "cell_type": "code",
   "execution_count": null,
   "id": "6cbd24d4",
   "metadata": {},
   "outputs": [],
   "source": [
    "scores = [\"precision\", \"recall\"]"
   ]
  },
  {
   "cell_type": "code",
   "execution_count": null,
   "id": "9f61a345",
   "metadata": {},
   "outputs": [],
   "source": [
    "for score in scores:\n",
    "    print(\"# Tuning hyper-parameters for %s\" % score)\n",
    "    print()\n",
    "\n",
    "    clf = GridSearchCV(svm.SVC(), tuned_parameters, scoring=\"%s_macro\" % score)\n",
    "    clf.fit(x_train_rescaled, y_train_transf)\n",
    "\n",
    "    print(\"Best parameters set found on development set:\")\n",
    "    print()\n",
    "    print(clf.best_params_)\n",
    "    print()\n",
    "    print(\"Grid scores on development set:\")\n",
    "    print()\n",
    "    means = clf.cv_results_[\"mean_test_score\"]\n",
    "    stds = clf.cv_results_[\"std_test_score\"]\n",
    "    for mean, std, params in zip(means, stds, clf.cv_results_[\"params\"]):\n",
    "        print(\"%0.3f (+/-%0.03f) for %r\" % (mean, std * 2, params))\n",
    "    print()\n",
    "\n",
    "    print(\"Detailed classification report:\")\n",
    "    print()\n",
    "    print(\"The model is trained on the full development set.\")\n",
    "    print(\"The scores are computed on the full evaluation set.\")\n",
    "    print()\n",
    "    y_true, y_pred = y_test_transf, clf.predict(scaling.transform(x_test_transf))\n",
    "    print(classification_report(y_true, y_pred))\n",
    "    print()\n"
   ]
  }
 ],
 "metadata": {
  "kernelspec": {
   "display_name": "Python 3 (ipykernel)",
   "language": "python",
   "name": "python3"
  },
  "language_info": {
   "codemirror_mode": {
    "name": "ipython",
    "version": 3
   },
   "file_extension": ".py",
   "mimetype": "text/x-python",
   "name": "python",
   "nbconvert_exporter": "python",
   "pygments_lexer": "ipython3",
   "version": "3.10.8"
  }
 },
 "nbformat": 4,
 "nbformat_minor": 5
}
