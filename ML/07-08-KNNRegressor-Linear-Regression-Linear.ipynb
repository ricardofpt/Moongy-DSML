{
 "cells": [
  {
   "cell_type": "markdown",
   "id": "461567ce",
   "metadata": {},
   "source": [
    "# K-Nearest Neighbors Regressor vs Linear Regression - On linear data"
   ]
  },
  {
   "cell_type": "markdown",
   "id": "61c44c3d",
   "metadata": {},
   "source": [
    "### Importing the relevant libraries"
   ]
  },
  {
   "cell_type": "code",
   "execution_count": null,
   "id": "94857e77",
   "metadata": {},
   "outputs": [],
   "source": [
    "# This method will help us create the regression\n",
    "from sklearn.datasets import make_regression\n",
    "\n",
    "# This method will help us split the data into training and testing datasets\n",
    "from sklearn.model_selection import train_test_split\n",
    "\n",
    "# This class will help us create a KNN regression model\n",
    "from sklearn.neighbors import KNeighborsRegressor\n",
    "\n",
    "# This class will help us create a Linear regression model\n",
    "from sklearn.linear_model import LinearRegression\n",
    "\n",
    "# This method will help us calculate the mean squared error for each model\n",
    "from sklearn.metrics import mean_squared_error\n",
    "\n",
    "# This library will help us organize our data\n",
    "import pandas as pd\n",
    "\n",
    "# These libraries will help us visualize the results\n",
    "import matplotlib.pyplot as plt\n",
    "import seaborn as sns"
   ]
  },
  {
   "cell_type": "markdown",
   "id": "5ca958f6",
   "metadata": {},
   "source": [
    "### Defining the regression"
   ]
  },
  {
   "cell_type": "code",
   "execution_count": null,
   "id": "31f77bbe",
   "metadata": {},
   "outputs": [],
   "source": [
    "# Create a regression dataset with 300 samples and a single feature.\n",
    "# Introduce some noise in the data.\n",
    "# Set a random state, so that the problem is reproducible, that is, each run of the cell produces the same dataset.\n",
    "inputs, target = make_regression(n_samples = 300, \n",
    "                                 n_features = 1, \n",
    "                                 noise = 15,\n",
    "                                 random_state = 365)"
   ]
  },
  {
   "cell_type": "code",
   "execution_count": null,
   "id": "9d47f3fe",
   "metadata": {},
   "outputs": [],
   "source": [
    "# Since we have generated our own dataset, we are free to modify it at our will.\n",
    "# Here, we make the dataset easier to work with by lowering the value of the targets.\n",
    "# Note that this is *not* something you would do with a real-world dataset!\n",
    "target = target/100"
   ]
  },
  {
   "cell_type": "markdown",
   "id": "951fc59c",
   "metadata": {},
   "source": [
    "### Visualizing the regression"
   ]
  },
  {
   "cell_type": "code",
   "execution_count": null,
   "id": "3a621e41",
   "metadata": {},
   "outputs": [],
   "source": [
    "# Set the seaborn visualization\n",
    "sns.set()\n",
    "\n",
    "# Plot the target versus the inputs and choose a color for the datapoints\n",
    "plt.scatter(inputs, target, color = '#000C1F')\n",
    "# Add a title to the plot\n",
    "plt.title('All data')\n",
    "# Add a label to the x-axis\n",
    "plt.xlabel('Feature')\n",
    "# Add a label to the y-axis\n",
    "plt.ylabel('Target');"
   ]
  },
  {
   "cell_type": "markdown",
   "id": "248f1689",
   "metadata": {},
   "source": [
    "### Split the data into training and testing sets. Visualize both datasets"
   ]
  },
  {
   "cell_type": "code",
   "execution_count": null,
   "id": "91a5498c",
   "metadata": {},
   "outputs": [],
   "source": [
    "# Split the data into training and testing sets such that 20% of all points are dedicated to testing.\n",
    "# Set a random state so that the split is reproducible.\n",
    "x_train, x_test, y_train, y_test = train_test_split(inputs, \n",
    "                                                    target, \n",
    "                                                    test_size = 0.2, \n",
    "                                                    random_state = 365)"
   ]
  },
  {
   "cell_type": "code",
   "execution_count": null,
   "id": "092065fd",
   "metadata": {},
   "outputs": [],
   "source": [
    "# Set the seaborn visualization\n",
    "sns.set()\n",
    "\n",
    "# Create two subplots which are aligned horizontally. Set a specific size for the figure\n",
    "fig, (ax1, ax2) = plt.subplots(1, 2, figsize=(10,4))\n",
    "\n",
    "# Plot the training dataset\n",
    "ax1.scatter(x_train, y_train, color = '#000C1F')\n",
    "ax1.set_title('Training data')\n",
    "ax1.set_xlabel('Feature')\n",
    "ax1.set_ylabel('Target')\n",
    "\n",
    "# Plot the test dataset\n",
    "ax2.scatter(x_test, y_test, color = '#000C1F')\n",
    "ax2.set_title('Test data')\n",
    "ax2.set_xlabel('Feature')\n",
    "ax2.set_ylabel('Target');"
   ]
  },
  {
   "cell_type": "markdown",
   "id": "4b0a2d3f",
   "metadata": {},
   "source": [
    "### Fit a linear regression and multiple KNN-regressions"
   ]
  },
  {
   "cell_type": "code",
   "execution_count": null,
   "id": "1c0f1557",
   "metadata": {},
   "outputs": [],
   "source": [
    "# Create an instance of LinearRegression()\n",
    "reg_lin = LinearRegression()\n",
    "\n",
    "# Fit the linear regression to the training set\n",
    "reg_lin.fit(x_train, y_train)\n",
    "\n",
    "# Make predictions on the test set\n",
    "y_pred_lin = reg_lin.predict(x_test)\n",
    "\n",
    "# Create an array where all predictions from the KNN regressions will be stored\n",
    "y_pred_knn = []\n",
    "\n",
    "# Create KNN regression models with K = 1, 10, and 40\n",
    "for i in [1, 10, 40]:\n",
    "    # Create an instance of the KNN regressor with the specified number of neighbors\n",
    "    reg_knn = KNeighborsRegressor(n_neighbors = i)\n",
    "    # Fit the model to the training data\n",
    "    reg_knn.fit(x_train, y_train)\n",
    "    # Make predictions on the test data and store it in the y_pred_knn variable\n",
    "    y_pred_knn.append(reg_knn.predict(x_test))"
   ]
  },
  {
   "cell_type": "markdown",
   "id": "9a698ea5",
   "metadata": {},
   "source": [
    "### Sort the data according to the test features"
   ]
  },
  {
   "cell_type": "code",
   "execution_count": null,
   "id": "4ee17996",
   "metadata": {},
   "outputs": [],
   "source": [
    "# In order to visualize the regressions well, we need to sort the data with respect to the test features\n",
    "\n",
    "df = pd.DataFrame(data = {'x_test':list(x_test.flatten()), \n",
    "                          'y_test':list(y_test.flatten()), \n",
    "                          'y_pred_lin':list(y_pred_lin.flatten()), \n",
    "                          'y_pred_knn-1':list(y_pred_knn[0].flatten()), \n",
    "                          'y_pred_knn-10':list(y_pred_knn[1].flatten()), \n",
    "                          'y_pred_knn-40':list(y_pred_knn[2].flatten())})\n",
    "\n",
    "# To check how the visualization looks like without sorting the data, comment out the line below,\n",
    "# run the cell and then run the next 2 cells.\n",
    "df = df.sort_values(by = ['x_test'])\n",
    "\n",
    "x_test_sorted = df['x_test'].tolist()\n",
    "y_test_sorted = df['y_test'].tolist()\n",
    "y_pred_lin_sorted = df['y_pred_lin'].tolist()\n",
    "y_pred_knn1_sorted = df['y_pred_knn-1'].tolist()\n",
    "y_pred_knn10_sorted = df['y_pred_knn-10'].tolist()\n",
    "y_pred_knn40_sorted = df['y_pred_knn-40'].tolist()"
   ]
  },
  {
   "cell_type": "markdown",
   "id": "4b4abdd2",
   "metadata": {},
   "source": [
    "### Visualize the linear regression on top of the test data"
   ]
  },
  {
   "cell_type": "code",
   "execution_count": null,
   "id": "9b5ac491",
   "metadata": {},
   "outputs": [],
   "source": [
    "# Set the seaborn visualization\n",
    "sns.set()\n",
    "\n",
    "# Plot the sorted true test targets versus the sorted test features. Choose a dark color\n",
    "plt.scatter(x_test_sorted, \n",
    "            y_test_sorted, \n",
    "            color = '#000C1F')\n",
    "\n",
    "# Plot the sorted predicted test targets versus the sorted test features. Choose a bright color\n",
    "plt.plot(x_test_sorted, \n",
    "         y_pred_lin_sorted, \n",
    "         color = 'orange');\n",
    "\n",
    "# Set a title\n",
    "plt.title('Linear fit on top of the test data')\n",
    "# Set a label to the x-axis\n",
    "plt.xlabel('Feature')\n",
    "# Set a label to the y-axis\n",
    "plt.ylabel('Target');"
   ]
  },
  {
   "cell_type": "markdown",
   "id": "ef2aef30",
   "metadata": {},
   "source": [
    "### Visualize three KNN regressions for K = 1, 10, and 40 on top of the test data"
   ]
  },
  {
   "cell_type": "code",
   "execution_count": null,
   "id": "4f9181b7",
   "metadata": {},
   "outputs": [],
   "source": [
    "# Set the seaborn visualization\n",
    "sns.set()\n",
    "\n",
    "# Create 3 subfigures aligned horizontally.\n",
    "# The first figure will represent a KNN fit for K = 1.\n",
    "# The second figure will represent a KNN fit for K = 10.\n",
    "# The third figure will represent a KNN fit for K = 40.\n",
    "fig, (ax1,ax2, ax3) = plt.subplots(1,3, figsize=(16, 5))\n",
    "\n",
    "# Plot the sorted true test targets versus the sorted test features. Choose a dark color.\n",
    "# Plot these datapoint on all 3 figures.\n",
    "ax1.scatter(x_test_sorted, y_test_sorted, color = '#000C1F')\n",
    "ax2.scatter(x_test_sorted, y_test_sorted, color = '#000C1F')\n",
    "ax3.scatter(x_test_sorted, y_test_sorted, color = '#000C1F')\n",
    "\n",
    "# Plot as a line the sorted predicted test targets (for K = 1) versus the sorted test features. \n",
    "# Choose a red color.\n",
    "# Set a title and axes labels.\n",
    "ax1.plot(x_test_sorted, \n",
    "         y_pred_knn1_sorted, \n",
    "         color = 'red')\n",
    "ax1.set_title('K = 1')\n",
    "ax1.set_xlabel('Feature')\n",
    "ax1.set_ylabel('Target')\n",
    "\n",
    "# Plot as a line the sorted predicted test targets (for K = 10) versus the sorted test features. \n",
    "# Choose a red color.\n",
    "# Set a title and axes labels.\n",
    "ax2.plot(x_test_sorted, \n",
    "         y_pred_knn10_sorted, \n",
    "         color = 'red')\n",
    "ax2.set_title('K = 10')\n",
    "ax2.set_xlabel('Feature')\n",
    "ax2.set_ylabel('Target')\n",
    "\n",
    "# Plot as a line the sorted predicted test targets (for K = 40) versus the sorted test features. \n",
    "# Choose a red color.\n",
    "# Set a title and axes labels.\n",
    "ax3.plot(x_test_sorted, \n",
    "         y_pred_knn40_sorted, \n",
    "         color = 'red')\n",
    "ax3.set_title('K = 40')\n",
    "ax3.set_xlabel('Feature')\n",
    "ax3.set_ylabel('Target');"
   ]
  },
  {
   "cell_type": "markdown",
   "id": "702b8604",
   "metadata": {},
   "source": [
    "### Calculate the MSE"
   ]
  },
  {
   "cell_type": "code",
   "execution_count": null,
   "id": "ccfa49ba",
   "metadata": {},
   "outputs": [],
   "source": [
    "# Choose a maximum number of nearest neighbors and add 1. \n",
    "# That is, choose the value 41 to set a maximum value of 40.\n",
    "# The reason we add the 1 is because this number is then used in a range() function in the following way:\n",
    "# range(1, k)\n",
    "# The range() function includes the first number but excludes the second one.\n",
    "k = 41\n",
    "\n",
    "# Create an array where all mean-squared error (MSE) values from the linear regression will be stored.\n",
    "mse_lin = []\n",
    "\n",
    "# Calculate the MSE value for the linear regression\n",
    "mse_lin = mean_squared_error(y_test, y_pred_lin)\n",
    "\n",
    "# The MSE value calculated above is the same for all values of K. \n",
    "# Therefore, we create an array storing that MSE value (k-1) many times.\n",
    "# This will later be used to plot the MSE value versus the number of nearest neighbors.\n",
    "mse_lin = [mse_lin]*(k-1)\n",
    "\n",
    "# Create an array where all MSE values from the KNN regressions will be stored.\n",
    "mse_knn = []\n",
    "\n",
    "# Loop through all K-values\n",
    "for i in range(1, k):\n",
    "    \n",
    "    # Create an instance of the KNN regression for the specified value of K\n",
    "    reg_knn = KNeighborsRegressor(n_neighbors = i)\n",
    "    \n",
    "    # Fir the training data to the model\n",
    "    reg_knn.fit(x_train, y_train)\n",
    "    \n",
    "    # Make predictions on the test data\n",
    "    y_pred_knn = reg_knn.predict(x_test)\n",
    "    \n",
    "    # Calculate the MSE value for this regression and store it in the array\n",
    "    mse_knn.append(mean_squared_error(y_test, y_pred_knn))"
   ]
  },
  {
   "cell_type": "markdown",
   "id": "792ed2a2",
   "metadata": {},
   "source": [
    "### Plot the MSE versus the number of neighbors"
   ]
  },
  {
   "cell_type": "code",
   "execution_count": null,
   "id": "b2fc39d2",
   "metadata": {},
   "outputs": [],
   "source": [
    "# Set the seaborn visualization\n",
    "sns.set()\n",
    "\n",
    "# Create a placeholder for a figure\n",
    "fig, ax = plt.subplots()\n",
    "\n",
    "# Plot the MSE of the linear regression versus the value of K.\n",
    "# Since the linear regression is not affected by the value of K, the output is a straight line.\n",
    "# Choose a color.\n",
    "# Choose a label which will describe the line in the legend\n",
    "ax.plot(list(range(1, k)), \n",
    "        mse_lin, \n",
    "        color = 'orange', \n",
    "        label = 'linear')\n",
    "\n",
    "# Plot the MSE of the KNN regressions versus the value of K.\n",
    "# Choose a color for the line.\n",
    "# Use a marker to show the values of K.\n",
    "# Choose a color for the marker\n",
    "# Choose a label which will describe the line in the legend\n",
    "ax.plot(list(range(1, k)), \n",
    "        mse_knn, \n",
    "        color = 'red', \n",
    "        marker = 'o', \n",
    "        markerfacecolor = '#000C1F', \n",
    "        label = 'KNN')\n",
    "\n",
    "# Place the legend in the lower right corner\n",
    "ax.legend(loc='lower right')\n",
    "\n",
    "# Set a title and axes labes\n",
    "ax.set_title('Mean-Squared Error (MSE)')\n",
    "ax.set_xlabel('K')\n",
    "ax.set_ylabel('MSE')\n",
    "\n",
    "# Set a minimum value of the y-axis\n",
    "plt.ylim(0);"
   ]
  }
 ],
 "metadata": {
  "kernelspec": {
   "display_name": "Python 3 (ipykernel)",
   "language": "python",
   "name": "python3"
  },
  "language_info": {
   "codemirror_mode": {
    "name": "ipython",
    "version": 3
   },
   "file_extension": ".py",
   "mimetype": "text/x-python",
   "name": "python",
   "nbconvert_exporter": "python",
   "pygments_lexer": "ipython3",
   "version": "3.10.5"
  }
 },
 "nbformat": 4,
 "nbformat_minor": 5
}
