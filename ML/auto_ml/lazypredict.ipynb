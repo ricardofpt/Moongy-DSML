{
 "cells": [
  {
   "cell_type": "markdown",
   "id": "52017851-6748-4bc5-ad9c-e2735dfc5ed4",
   "metadata": {},
   "source": [
    "# AutoML with LazyPredict\n",
    "\n",
    "[Official website](https://github.com/shankarpandala/lazypredict)"
   ]
  },
  {
   "cell_type": "code",
   "execution_count": null,
   "id": "dbb04599-dae0-4663-bf38-5326af99daa2",
   "metadata": {},
   "outputs": [],
   "source": [
    "from lazypredict.Supervised import LazyClassifier, LazyRegressor\n",
    "from sklearn.model_selection import train_test_split\n",
    "from sklearn import datasets"
   ]
  },
  {
   "cell_type": "markdown",
   "id": "1f9f13bc-ba28-43d8-bac6-7a535883f1d3",
   "metadata": {},
   "source": [
    "## Classification"
   ]
  },
  {
   "cell_type": "code",
   "execution_count": null,
   "id": "6e476137-a6cf-41f8-8924-2984c20fd1a3",
   "metadata": {},
   "outputs": [],
   "source": [
    "# load data\n",
    "data = datasets.load_breast_cancer()\n",
    "X, y = data.data, data.target\n",
    "X_train, X_test, y_train, y_test = train_test_split(X, y, test_size=.2, random_state=42)\n",
    "# fit all models\n",
    "clf = LazyClassifier(predictions=True)\n",
    "models, predictions = clf.fit(X_train, X_test, y_train, y_test)"
   ]
  },
  {
   "cell_type": "markdown",
   "id": "6b262e60-4dc4-4259-bf2a-af630521c83a",
   "metadata": {},
   "source": [
    "One important thing that is hidden from the user is that the library automatically applies preprocessing to the dataset. \n",
    "\n",
    "First, it imputes missing values using `SimpleImputer` (using the mean for numeric features and a constant 'missing' value for categorical ones). Then, it uses `StandardScaler` for numeric features and either `OneHotEncoder` or `OrdinalEncoder` for the categorical features (depending on the cardinality — number of unique values). \n",
    "\n",
    "While this is handy and ensures that the models will actually run, some users might prefer different approaches to preprocessing the dataset.\n",
    "\n",
    "The `models` DataFrame contains the performance summary of all the classifiers, while `predictions` contains all the predictions for each model."
   ]
  },
  {
   "cell_type": "code",
   "execution_count": null,
   "id": "bfa633c3-f849-4126-8f7a-058ab6552954",
   "metadata": {},
   "outputs": [],
   "source": [
    "models"
   ]
  },
  {
   "cell_type": "code",
   "execution_count": null,
   "id": "a919478c-87bd-4d12-80a7-e60cbdc90f2a",
   "metadata": {},
   "outputs": [],
   "source": [
    "predictions"
   ]
  },
  {
   "cell_type": "markdown",
   "id": "6f7320a1-48d4-478b-941a-41440976d2d6",
   "metadata": {},
   "source": [
    "## Regression"
   ]
  },
  {
   "cell_type": "code",
   "execution_count": null,
   "id": "d6b91eba-5f68-42d0-aef8-c591556c1586",
   "metadata": {},
   "outputs": [],
   "source": [
    "# load data\n",
    "boston = datasets.load_boston()\n",
    "X, y = boston.data, boston.target\n",
    "X_train, X_test, y_train, y_test = train_test_split(X, y, test_size=.2, random_state=42)\n",
    "# fit all models\n",
    "reg = LazyRegressor(predictions=True)\n",
    "models, predictions = reg.fit(X_train, X_test, y_train, y_test)"
   ]
  },
  {
   "cell_type": "code",
   "execution_count": null,
   "id": "beec44d1-4555-430e-bcab-25ec51efd14c",
   "metadata": {},
   "outputs": [],
   "source": [
    "models"
   ]
  },
  {
   "cell_type": "code",
   "execution_count": null,
   "id": "eafd0a72-c366-4f1d-9d54-21bb64f2c63a",
   "metadata": {},
   "outputs": [],
   "source": [
    "predictions"
   ]
  }
 ],
 "metadata": {
  "kernelspec": {
   "display_name": "Python 3 (ipykernel)",
   "language": "python",
   "name": "python3"
  },
  "language_info": {
   "codemirror_mode": {
    "name": "ipython",
    "version": 3
   },
   "file_extension": ".py",
   "mimetype": "text/x-python",
   "name": "python",
   "nbconvert_exporter": "python",
   "pygments_lexer": "ipython3",
   "version": "3.10.8"
  }
 },
 "nbformat": 4,
 "nbformat_minor": 5
}
