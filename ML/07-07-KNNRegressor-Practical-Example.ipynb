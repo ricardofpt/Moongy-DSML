{
 "cells": [
  {
   "cell_type": "markdown",
   "id": "fc6a8628",
   "metadata": {},
   "source": [
    "# K-Nearest Neighbors Regressor - Practical example"
   ]
  },
  {
   "cell_type": "markdown",
   "id": "c824583d",
   "metadata": {},
   "source": [
    "### Introducing the database"
   ]
  },
  {
   "cell_type": "markdown",
   "id": "3cb0a75c",
   "metadata": {},
   "source": [
    "The database for this example is generated randomly. Generating datasets is an important skill to have. This is the best way to explore the algorithms themelves without having to worry about encoding, standardizing, dealing with outliers and all sorts of preprocessing that comes with a real-world dataset. Another advantage of randomly generated datasets is that you have full control over the data. You are free to choose the number of features, the number of classes, the way the points are distributed, everything really! \n",
    "\n",
    "I wish you to have lots of fun with the exercise and keep experimenting!"
   ]
  },
  {
   "cell_type": "markdown",
   "id": "2b4837d7",
   "metadata": {},
   "source": [
    "### Importing the necessary libraries"
   ]
  },
  {
   "cell_type": "code",
   "execution_count": null,
   "id": "c4046bd9",
   "metadata": {},
   "outputs": [],
   "source": [
    "# Will help us generate the regression\n",
    "from sklearn.datasets import make_regression\n",
    "# Will help us create the KNN regression model\n",
    "from sklearn.neighbors import KNeighborsRegressor\n",
    "\n",
    "# Will help us visualize the results\n",
    "import matplotlib.pyplot as plt\n",
    "import seaborn as sns"
   ]
  },
  {
   "cell_type": "markdown",
   "id": "ca7c0c59",
   "metadata": {},
   "source": [
    "### Generating the database"
   ]
  },
  {
   "cell_type": "code",
   "execution_count": null,
   "id": "d301e149",
   "metadata": {},
   "outputs": [],
   "source": [
    "# Create a linear regression with 10 samples and a single feature.\n",
    "# Introduce some noise in the data\n",
    "# Set a random state, so that each run produces the same regression\n",
    "inputs, target = make_regression(n_samples = 10, \n",
    "                                 n_features = 1, \n",
    "                                 noise = 15,\n",
    "                                 random_state = 365)"
   ]
  },
  {
   "cell_type": "code",
   "execution_count": null,
   "id": "1f1694f6",
   "metadata": {},
   "outputs": [],
   "source": [
    "# Since the dataset is randomly generated, we are free to modify it at our will.\n",
    "# Here, I divide the target values just to make the numbers in the dataset smaller. \n",
    "# Note, this is not something you would do with a real dataset!\n",
    "target = target/40"
   ]
  },
  {
   "cell_type": "markdown",
   "id": "e0369b0b",
   "metadata": {},
   "source": [
    "### Plotting the database"
   ]
  },
  {
   "cell_type": "code",
   "execution_count": null,
   "id": "f3776439",
   "metadata": {},
   "outputs": [],
   "source": [
    "# Set the seaborn visualization\n",
    "sns.set()\n",
    "\n",
    "# Plot the dataset\n",
    "plt.scatter(inputs, target);"
   ]
  },
  {
   "cell_type": "markdown",
   "id": "c8cb16f7",
   "metadata": {},
   "source": [
    "### Creating the model"
   ]
  },
  {
   "cell_type": "code",
   "execution_count": null,
   "id": "520f76d0",
   "metadata": {},
   "outputs": [],
   "source": [
    "# Create a KNN regressior with a specified K-value\n",
    "reg_knn = KNeighborsRegressor(n_neighbors = 1)\n",
    "\n",
    "# Fit the model to the data\n",
    "reg_knn.fit(inputs, target)"
   ]
  },
  {
   "cell_type": "markdown",
   "id": "5c463f5a",
   "metadata": {},
   "source": [
    "### Predicting a sample"
   ]
  },
  {
   "cell_type": "code",
   "execution_count": null,
   "id": "282325e2",
   "metadata": {},
   "outputs": [],
   "source": [
    "# Set an x-value to a sample whose y-value we aim to predict\n",
    "x_pred = -0.5\n",
    "\n",
    "# Use the fitted model to predict the y-value of the sample\n",
    "y_pred = reg_knn.predict([[x_pred]])\n",
    "\n",
    "# Display the predicted value\n",
    "y_pred"
   ]
  },
  {
   "cell_type": "code",
   "execution_count": null,
   "id": "254fba1f",
   "metadata": {},
   "outputs": [],
   "source": [
    "# Store the distance to the three nearest neighbors as well as their indices in the dataset\n",
    "neighbors = reg_knn.kneighbors([[x_pred]])\n",
    "\n",
    "# Display the distances and the indices\n",
    "neighbors"
   ]
  },
  {
   "cell_type": "markdown",
   "id": "d97bc45a",
   "metadata": {},
   "source": [
    "### Visualizing the neighbors"
   ]
  },
  {
   "cell_type": "code",
   "execution_count": null,
   "id": "c594b0c2",
   "metadata": {},
   "outputs": [],
   "source": [
    "# Set the seaborn visualization\n",
    "sns.set()\n",
    "\n",
    "# Plot the targets versus the inputs\n",
    "plt.scatter(inputs, target)\n",
    "\n",
    "# Plot the sample point whose y-value we predicted\n",
    "plt.scatter(x_pred, y_pred)\n",
    "\n",
    "# Create two arrays where the x- and y-values of the nearest neighbors will be stored\n",
    "plot_x_train = []\n",
    "plot_y_train = []\n",
    "\n",
    "# Use the indices of the nearest neighbors to fetch their x- and y-values\n",
    "for i in neighbors[1]:\n",
    "    plot_x_train.append(inputs[i])\n",
    "    plot_y_train.append(target[i])\n",
    "\n",
    "# Encircle the nearest neighbors\n",
    "plt.scatter(plot_x_train, \n",
    "            plot_y_train, \n",
    "            s=200, facecolors='none', edgecolors='r');"
   ]
  },
  {
   "cell_type": "markdown",
   "id": "483e44fa",
   "metadata": {},
   "source": [
    "### Calculating the predicted value"
   ]
  },
  {
   "cell_type": "code",
   "execution_count": null,
   "id": "a787eeaa",
   "metadata": {},
   "outputs": [],
   "source": [
    "# Display the y-values of the neighbors together with the predicted y-value\n",
    "\n",
    "target[8], y_pred\n",
    "#target[8], target[3], y_pred\n",
    "#target[8], target[3], target[0], y_pred"
   ]
  },
  {
   "cell_type": "code",
   "execution_count": null,
   "id": "39f2920f",
   "metadata": {},
   "outputs": [],
   "source": [
    "# Find the arithmetic mean of the y-values of the nearest neighbors\n",
    "\n",
    "#(target[8] + target[3])/2\n",
    "#(target[8] + target[3] + target[0])/3"
   ]
  },
  {
   "cell_type": "markdown",
   "id": "625ad5f2-7d21-4b48-a703-1ca66a144408",
   "metadata": {},
   "source": [
    "### Try other options\n",
    "\n",
    "Go back to the cell where we specified the number of neighbors with `KNeighborsRegressor(n_neighbors = 1)` and try with 2 and 3 neighbors."
   ]
  }
 ],
 "metadata": {
  "kernelspec": {
   "display_name": "Python 3 (ipykernel)",
   "language": "python",
   "name": "python3"
  },
  "language_info": {
   "codemirror_mode": {
    "name": "ipython",
    "version": 3
   },
   "file_extension": ".py",
   "mimetype": "text/x-python",
   "name": "python",
   "nbconvert_exporter": "python",
   "pygments_lexer": "ipython3",
   "version": "3.10.5"
  }
 },
 "nbformat": 4,
 "nbformat_minor": 5
}
