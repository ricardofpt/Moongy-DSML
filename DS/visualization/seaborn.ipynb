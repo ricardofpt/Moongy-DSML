{
 "cells": [
  {
   "cell_type": "markdown",
   "metadata": {},
   "source": [
    "# Intro to seaborn\n",
    "\n",
    "As the charts get more complex, the more the code you’ve got to write. For example, in matplotlib, there is no direct method to draw a density plot of a scatterplot with line of best fit. You get the idea.\n",
    "\n",
    "So, what you can do instead is to use a higher level package like seaborn, and use one of its prebuilt functions to draw the plot.\n",
    "\n",
    "We are not going in-depth into seaborn. But let’s see how to get started and where to find what you want. A lot of seaborn’s plots are suitable for data analysis and the library works seamlessly with pandas dataframes.\n",
    "\n",
    "seaborn is typically imported as `sns`. Like matplotlib it comes with its own set of pre-built styles and palettes."
   ]
  },
  {
   "cell_type": "code",
   "execution_count": null,
   "metadata": {},
   "outputs": [],
   "source": [
    "import seaborn as sns\n",
    "import pandas as pd\n",
    "import matplotlib.pyplot as plt\n",
    "%matplotlib inline"
   ]
  },
  {
   "cell_type": "code",
   "execution_count": null,
   "metadata": {},
   "outputs": [],
   "source": [
    "# Read dataset\n",
    "df = pd.read_csv('Pokemon.csv', index_col=0, encoding='unicode_escape')\n",
    "df.head()"
   ]
  },
  {
   "cell_type": "markdown",
   "metadata": {},
   "source": [
    "## Seaborn's plotting functions\n",
    "\n",
    "One of Seaborn's greatest strengths is its diversity of plotting functions. For instance, making a scatter plot is just one line of code using the `lmplot` function.\n",
    "\n",
    "For example, let's compare the Attack and Defense stats for our Pokémon:"
   ]
  },
  {
   "cell_type": "code",
   "execution_count": null,
   "metadata": {},
   "outputs": [],
   "source": [
    "sns.set_style(\"whitegrid\") # let's try a different theme\n",
    "sns.lmplot(x='Attack', y='Defense', data=df);"
   ]
  },
  {
   "cell_type": "markdown",
   "metadata": {},
   "source": [
    "By the way, Seaborn doesn't have a dedicated scatter plot function, which is why you see a diagonal line. We actually used Seaborn's function for fitting and plotting a regression line.\n",
    "\n",
    "Thankfully, each plotting function has several useful options that you can set. Here's how we can tweak the `lmplot`:\n",
    "\n",
    "* First, we'll set `fit_reg=False` to remove the regression line, since we only want a scatter plot.\n",
    "* Next, we'll set `hue='Stage'` to color our points by the Pokémon's evolution stage. This hue argument is very useful because it allows you to express a third dimension of information using color."
   ]
  },
  {
   "cell_type": "code",
   "execution_count": null,
   "metadata": {},
   "outputs": [],
   "source": [
    "sns.set_style(\"darkgrid\") # let's try a different theme\n",
    "sns.lmplot(x='Attack', y='Defense', data=df,\n",
    "           fit_reg=False, # No regression line\n",
    "           hue='Stage');   # Color by evolution stage"
   ]
  },
  {
   "cell_type": "markdown",
   "metadata": {},
   "source": [
    "## Customizing with matplotlib\n",
    "\n",
    "Remember, Seaborn is a high-level interface to Matplotlib. Seaborn will get you most of the way there, but you'll sometimes need to bring in Matplotlib.\n",
    "\n",
    "Look at the previous plot: do you notice that the bottom left corner doesn't start with 0? Setting your axes limits is one of those times, but the process is pretty simple:\n",
    "\n",
    "* First, invoke your Seaborn plotting function as normal.\n",
    "* Then, invoke Matplotlib's customization functions. In this case, we'll use its `ylim` and `xlim` functions.\n",
    "\n",
    "Here's our new scatter plot with sensible axes limits:"
   ]
  },
  {
   "cell_type": "code",
   "execution_count": null,
   "metadata": {},
   "outputs": [],
   "source": [
    "sns.set_style(\"dark\") # let's try a different theme\n",
    "# Plot using Seaborn\n",
    "sns.lmplot(x='Attack', y='Defense', data=df,\n",
    "           fit_reg=False, \n",
    "           hue='Stage')\n",
    " \n",
    "# Tweak using Matplotlib\n",
    "plt.ylim(0, None)\n",
    "plt.xlim(0, None);\n",
    "\n",
    "# (look at the bottom left corner now)"
   ]
  },
  {
   "cell_type": "markdown",
   "metadata": {},
   "source": [
    "## The role of Pandas\n",
    "\n",
    "Even though this is a Seaborn tutorial, Pandas actually plays a very important role. You see, Seaborn's plotting functions benefit from a base DataFrame that's reasonably formatted.\n",
    "\n",
    "For example, let's say we wanted to make a box plot for our Pokémon's combat stats:"
   ]
  },
  {
   "cell_type": "code",
   "execution_count": null,
   "metadata": {},
   "outputs": [],
   "source": [
    "sns.set_style(\"white\") # let's try a different theme\n",
    "# Boxplot\n",
    "sns.boxplot(data=df);"
   ]
  },
  {
   "cell_type": "markdown",
   "metadata": {},
   "source": [
    "Well, that's a reasonable start, but there are some columns we'd probably like to remove:\n",
    "\n",
    "* We can remove the *Total* since we have individual stats.\n",
    "* We can remove the *Stage* and *Legendary* columns because they aren't combat stats.\n",
    "\n",
    "In turns out that this isn't easy to do within Seaborn alone. Instead, it's much simpler to pre-format your `DataFrame`.\n",
    "\n",
    "Let's create a new `DataFrame` called `stats_df` that only keeps the stats columns:"
   ]
  },
  {
   "cell_type": "code",
   "execution_count": null,
   "metadata": {},
   "outputs": [],
   "source": [
    "# Pre-format DataFrame\n",
    "stats_df = df.drop(['Total', 'Stage', 'Legendary'], axis=1)\n",
    " \n",
    "# New boxplot using stats_df\n",
    "sns.boxplot(data=stats_df);"
   ]
  },
  {
   "cell_type": "markdown",
   "metadata": {},
   "source": [
    "While we're at it, let's talk about violin plots:\n",
    "\n",
    "* Violin plots are useful alternatives to box plots.\n",
    "* They show the distribution (through the thickness of the violin) instead of only the summary statistics.\n",
    "\n",
    "For example, we can visualize the distribution of Attack by Pokémon's primary type:"
   ]
  },
  {
   "cell_type": "code",
   "execution_count": null,
   "metadata": {},
   "outputs": [],
   "source": [
    "# Set theme\n",
    "sns.set_style('whitegrid')\n",
    " \n",
    "# Violin plot\n",
    "sns.violinplot(x='Type 1', y='Attack', data=df);"
   ]
  },
  {
   "cell_type": "markdown",
   "metadata": {},
   "source": [
    "As you can see, Dragon types tend to have higher Attack stats than Ghost types, but they also have greater variance.\n",
    "\n",
    "Now, Pokémon fans might find something quite jarring about that plot: The colors are nonsensical. Why is the Grass type colored pink or the Water type colored orange? We must fix this!\n",
    "\n",
    "## Color palettes\n",
    "\n",
    "Fortunately, Seaborn allows us to set custom color palettes. We can simply create an ordered Python list of color hex values."
   ]
  },
  {
   "cell_type": "code",
   "execution_count": null,
   "metadata": {},
   "outputs": [],
   "source": [
    "pkmn_type_colors = ['#78C850',  # Grass\n",
    "                    '#F08030',  # Fire\n",
    "                    '#6890F0',  # Water\n",
    "                    '#A8B820',  # Bug\n",
    "                    '#A8A878',  # Normal\n",
    "                    '#A040A0',  # Poison\n",
    "                    '#F8D030',  # Electric\n",
    "                    '#E0C068',  # Ground\n",
    "                    '#EE99AC',  # Fairy\n",
    "                    '#C03028',  # Fighting\n",
    "                    '#F85888',  # Psychic\n",
    "                    '#B8A038',  # Rock\n",
    "                    '#705898',  # Ghost\n",
    "                    '#98D8D8',  # Ice\n",
    "                    '#7038F8',  # Dragon\n",
    "                   ]"
   ]
  },
  {
   "cell_type": "markdown",
   "metadata": {},
   "source": [
    "Now we can simply use the `palette=` argument to recolor our chart."
   ]
  },
  {
   "cell_type": "code",
   "execution_count": null,
   "metadata": {},
   "outputs": [],
   "source": [
    "# Violin plot with Pokemon color palette\n",
    "sns.violinplot(x='Type 1', y='Attack', data=df, \n",
    "               palette=pkmn_type_colors); # Set color palette"
   ]
  },
  {
   "cell_type": "markdown",
   "metadata": {},
   "source": [
    "Violin plots are great for visualizing distributions. However, since we only have 151 Pokémon in our dataset, we may want to simply display each point.\n",
    "\n",
    "That's where the swarm plot comes in. This visualization will show each point, while \"stacking\" those with similar values:"
   ]
  },
  {
   "cell_type": "code",
   "execution_count": null,
   "metadata": {},
   "outputs": [],
   "source": [
    "# Swarm plot with Pokemon color palette\n",
    "sns.swarmplot(x='Type 1', y='Attack', data=df, \n",
    "              palette=pkmn_type_colors);"
   ]
  },
  {
   "cell_type": "markdown",
   "metadata": {},
   "source": [
    "That's handy, but can't we combine our swarm plot and the violin plot? After all, they display similar information, right?\n",
    "\n",
    "## Overlaying plots\n",
    "\n",
    "The answer is yes.\n",
    "\n",
    "It's pretty straightforward to overlay plots using Seaborn, and it works the same way as with Matplotlib. Here's what we'll do:\n",
    "\n",
    "* First, we'll make our figure larger using Matplotlib.\n",
    "* Then, we'll plot the violin plot. However, we'll set inner=None to remove the bars inside the violins.\n",
    "* Next, we'll plot the swarm plot. This time, we'll make the points black so they pop out more.\n",
    "* Finally, we'll set a title using Matplotlib."
   ]
  },
  {
   "cell_type": "code",
   "execution_count": null,
   "metadata": {},
   "outputs": [],
   "source": [
    "# Set figure size with matplotlib\n",
    "plt.figure(figsize=(10,6))\n",
    " \n",
    "# Create plot\n",
    "sns.violinplot(x='Type 1',\n",
    "               y='Attack', \n",
    "               data=df, \n",
    "               inner=None, # Remove the bars inside the violins\n",
    "               palette=pkmn_type_colors)\n",
    " \n",
    "sns.swarmplot(x='Type 1', \n",
    "              y='Attack', \n",
    "              data=df, \n",
    "              color='k', # Make points black\n",
    "              alpha=0.7) # and slightly transparent\n",
    " \n",
    "# Set title with matplotlib\n",
    "plt.title('Attack by Type');"
   ]
  },
  {
   "cell_type": "markdown",
   "metadata": {},
   "source": [
    "## Let's go crazy\n",
    "\n",
    "Well, we could certainly repeat that chart for each stat. But we can also combine the information into one chart... we just have to do some data wrangling with Pandas beforehand.\n",
    "\n",
    "First, here's a reminder of our data format:"
   ]
  },
  {
   "cell_type": "code",
   "execution_count": null,
   "metadata": {},
   "outputs": [],
   "source": [
    "stats_df.head()"
   ]
  },
  {
   "cell_type": "markdown",
   "metadata": {},
   "source": [
    "As you can see, all of our stats are in separate columns. Instead, we want to \"melt\" them into one column.\n",
    "\n",
    "To do so, we'll use Pandas's `melt` function. It takes 3 arguments:\n",
    "\n",
    "* First, the DataFrame to melt.\n",
    "* Second, ID variables to keep (Pandas will melt all of the other ones).\n",
    "* Finally, a name for the new, melted variable.\n",
    "\n",
    "Here's the output:"
   ]
  },
  {
   "cell_type": "code",
   "execution_count": null,
   "metadata": {},
   "outputs": [],
   "source": [
    "# Melt DataFrame\n",
    "melted_df = pd.melt(stats_df, \n",
    "                    id_vars=[\"Name\", \"Type 1\", \"Type 2\"], # Variables to keep\n",
    "                    var_name=\"Stat\") # Name of melted variable\n",
    "melted_df.head()"
   ]
  },
  {
   "cell_type": "markdown",
   "metadata": {},
   "source": [
    "All 6 of the stat columns have been \"melted\" into one, and the new Stat column indicates the original stat (HP, Attack, Defense, Sp. Attack, Sp. Defense, or Speed). For example, it's hard to see here, but Bulbasaur now has 6 rows of data.\n",
    "\n",
    "In fact, if you print the shape of these two DataFrames..."
   ]
  },
  {
   "cell_type": "code",
   "execution_count": null,
   "metadata": {},
   "outputs": [],
   "source": [
    "print( stats_df.shape )\n",
    "print( melted_df.shape )"
   ]
  },
  {
   "cell_type": "markdown",
   "metadata": {},
   "source": [
    "...you'll find that `melted_df` has 6 times the number of rows as `stats_df`.\n",
    "\n",
    "Now we can make a swarm plot with `melted_df`.\n",
    "\n",
    "But this time, we're going to set `x='Stat'` and `y='value'` so our swarms are separated by stat.\n",
    "Then, we'll set `hue='Type 1'` to color our points by the Pokémon type."
   ]
  },
  {
   "cell_type": "code",
   "execution_count": null,
   "metadata": {},
   "outputs": [],
   "source": [
    "# Swarmplot with melted_df\n",
    "sns.swarmplot(x='Stat', y='value', data=melted_df, \n",
    "              hue='Type 1');"
   ]
  },
  {
   "cell_type": "markdown",
   "metadata": {},
   "source": [
    "Finally, let's make a few final tweaks for a more readable chart:\n",
    "\n",
    "* Enlarge the plot.\n",
    "* Separate points by hue using the argument split=True .\n",
    "* Use our custom Pokemon color palette.\n",
    "* Adjust the y-axis limits to end at 0.\n",
    "* Place the legend to the right."
   ]
  },
  {
   "cell_type": "code",
   "execution_count": null,
   "metadata": {},
   "outputs": [],
   "source": [
    "# 1. Enlarge the plot\n",
    "plt.figure(figsize=(14,10))\n",
    " \n",
    "sns.swarmplot(x='Stat', \n",
    "              y='value', \n",
    "              data=melted_df, \n",
    "              hue='Type 1', \n",
    "              dodge=True, # 2. Separate points by hue\n",
    "              palette=pkmn_type_colors) # 3. Use Pokemon palette\n",
    " \n",
    "# 4. Adjust the y-axis\n",
    "plt.ylim(0, 260)\n",
    " \n",
    "# 5. Place legend to the right\n",
    "plt.legend(bbox_to_anchor=(1, 1), loc=2);"
   ]
  },
  {
   "cell_type": "markdown",
   "metadata": {},
   "source": [
    "## Chart gallery\n",
    "\n",
    "We're going to conclude this tutorial with a few quick-fire data visualizations, just to give you a sense of what's possible with Seaborn.\n",
    "\n",
    "### Heatmap\n",
    "\n",
    "Heatmaps help you visualize matrix-like data."
   ]
  },
  {
   "cell_type": "code",
   "execution_count": null,
   "metadata": {},
   "outputs": [],
   "source": [
    "# Calculate correlations\n",
    "corr = stats_df.corr()\n",
    " \n",
    "# Heatmap\n",
    "sns.heatmap(corr, annot=True);"
   ]
  },
  {
   "cell_type": "markdown",
   "metadata": {},
   "source": [
    "### Histogram\n",
    "\n",
    "Histograms allow you to plot the distributions of numeric variables."
   ]
  },
  {
   "cell_type": "code",
   "execution_count": null,
   "metadata": {},
   "outputs": [],
   "source": [
    "# Distribution Plot (a.k.a. Histogram)\n",
    "sns.distplot(df.Attack);"
   ]
  },
  {
   "cell_type": "markdown",
   "metadata": {},
   "source": [
    "### Bar Plot\n",
    "\n",
    "Bar plots help you visualize the distributions of categorical variables."
   ]
  },
  {
   "cell_type": "code",
   "execution_count": null,
   "metadata": {},
   "outputs": [],
   "source": [
    "# Count Plot (a.k.a. Bar Plot)\n",
    "sns.countplot(x='Type 1', data=df, palette=pkmn_type_colors)\n",
    " \n",
    "# Rotate x-labels\n",
    "plt.xticks(rotation=-45);"
   ]
  },
  {
   "cell_type": "markdown",
   "metadata": {},
   "source": [
    "### Category Plot\n",
    "\n",
    "Category plots make it easy to separate plots by categorical classes."
   ]
  },
  {
   "cell_type": "code",
   "execution_count": null,
   "metadata": {},
   "outputs": [],
   "source": [
    "# Factor Plot\n",
    "g = sns.catplot(x='Type 1', \n",
    "                   y='Attack', \n",
    "                   data=df, \n",
    "                   hue='Stage',  # Color by stage\n",
    "                   col='Stage',  # Separate by stage\n",
    "                   kind='box') # Swarmplot\n",
    " \n",
    "# Rotate x-axis labels\n",
    "g.set_xticklabels(rotation=-45);"
   ]
  },
  {
   "cell_type": "markdown",
   "metadata": {},
   "source": [
    "### Density Plot\n",
    "\n",
    "Density plots display the distribution between two variables.\n",
    "\n",
    ">Tip: Consider overlaying this with a scatter plot."
   ]
  },
  {
   "cell_type": "code",
   "execution_count": null,
   "metadata": {},
   "outputs": [],
   "source": [
    "# Density Plot\n",
    "sns.kdeplot(df.Attack, df.Defense);"
   ]
  },
  {
   "cell_type": "markdown",
   "metadata": {},
   "source": [
    "### Joint Distribution Plot\n",
    "\n",
    "Joint distribution plots combine information from scatter plots and histograms to give you detailed information for bi-variate distributions."
   ]
  },
  {
   "cell_type": "code",
   "execution_count": null,
   "metadata": {},
   "outputs": [],
   "source": [
    "# Joint Distribution Plot\n",
    "plt.figure(figsize=(16,10), dpi= 80)\n",
    "sns.jointplot(x='Attack', y='Defense', data=df);"
   ]
  },
  {
   "cell_type": "markdown",
   "metadata": {},
   "source": [
    "### Pair Plot"
   ]
  },
  {
   "cell_type": "code",
   "execution_count": null,
   "metadata": {},
   "outputs": [],
   "source": [
    "#only supports numerical variables\n",
    "only_nums = df.select_dtypes(exclude=['object', 'bool'])\n",
    "\n",
    "sns.pairplot(only_nums, hue=\"Stage\");"
   ]
  }
 ],
 "metadata": {
  "kernelspec": {
   "display_name": "Python 3 (ipykernel)",
   "language": "python",
   "name": "python3"
  },
  "language_info": {
   "codemirror_mode": {
    "name": "ipython",
    "version": 3
   },
   "file_extension": ".py",
   "mimetype": "text/x-python",
   "name": "python",
   "nbconvert_exporter": "python",
   "pygments_lexer": "ipython3",
   "version": "3.8.10"
  }
 },
 "nbformat": 4,
 "nbformat_minor": 4
}
