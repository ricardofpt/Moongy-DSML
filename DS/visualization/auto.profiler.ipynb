{
 "cells": [
  {
   "cell_type": "markdown",
   "id": "e46a5f63-9ebf-41c5-8609-cadae09892e3",
   "metadata": {},
   "source": [
    "# Autoprofiler - Automatic data profiling\n",
    "\n",
    "## Installation\n",
    "\n",
    "* Pip: `pip install digautoprofiler`\n",
    "* Anaconda: no installation available as of October 2023\n",
    "\n",
    "After installing you'll notice a new icon in the right sidebar.\n",
    "\n",
    "It will automatically show all your dataframes, and will automatically update as you make changes."
   ]
  }
 ],
 "metadata": {
  "kernelspec": {
   "display_name": "data.science",
   "language": "python",
   "name": "data.science"
  },
  "language_info": {
   "codemirror_mode": {
    "name": "ipython",
    "version": 3
   },
   "file_extension": ".py",
   "mimetype": "text/x-python",
   "name": "python",
   "nbconvert_exporter": "python",
   "pygments_lexer": "ipython3",
   "version": "3.11.5"
  }
 },
 "nbformat": 4,
 "nbformat_minor": 5
}
