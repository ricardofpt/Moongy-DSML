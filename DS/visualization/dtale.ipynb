{
 "cells": [
  {
   "cell_type": "markdown",
   "metadata": {},
   "source": [
    "## Dtale - Dataframe interactive mode\n",
    "\n",
    "Dtale allows you to interact with your dataframes without writing a single line of code, but has the advantage of allowing you to copy the generated code to use later.\n",
    "\n",
    "Installation:\n",
    "\n",
    "* if using Anaconda: conda install -c conda-forge dtale\n",
    "* if using pip: pip install dtale\n",
    "\n",
    "Let's see how dtale can help us out with that."
   ]
  },
  {
   "cell_type": "code",
   "execution_count": 1,
   "metadata": {},
   "outputs": [],
   "source": [
    "import dtale\n",
    "import pandas as  pd"
   ]
  },
  {
   "cell_type": "code",
   "execution_count": null,
   "metadata": {},
   "outputs": [],
   "source": [
    "# bring your dataset to a pandas dataframe\n",
    "df = pd.read_csv('Pokemon.csv', index_col=0, encoding='unicode_escape')"
   ]
  },
  {
   "cell_type": "code",
   "execution_count": null,
   "metadata": {},
   "outputs": [],
   "source": [
    "#open the dataframe in dtale\n",
    "d = dtale.show(df)\n",
    "d"
   ]
  }
 ],
 "metadata": {
  "kernelspec": {
   "display_name": "Python 3 (ipykernel)",
   "language": "python",
   "name": "python3"
  },
  "language_info": {
   "codemirror_mode": {
    "name": "ipython",
    "version": 3
   },
   "file_extension": ".py",
   "mimetype": "text/x-python",
   "name": "python",
   "nbconvert_exporter": "python",
   "pygments_lexer": "ipython3",
   "version": "3.10.6"
  }
 },
 "nbformat": 4,
 "nbformat_minor": 4
}
