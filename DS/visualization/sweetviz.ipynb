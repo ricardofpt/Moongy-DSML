{
 "cells": [
  {
   "cell_type": "markdown",
   "metadata": {
    "tags": []
   },
   "source": [
    "## Sweetviz - Automated EDA in python\n",
    "\n",
    "Exploratory Data Analysis is a process where we analyze a dataset and summarize the main characteristics of that dataset, often with the help of visualizations. \n",
    "\n",
    "EDA is really important because if you are not familiar with the dataset you're working on, then you won’t be able to infer anything from the data.\n",
    "\n",
    "Let's see how sweetviz can help us out with that. Read more about it [here](https://github.com/fbdesignpro/sweetviz)."
   ]
  },
  {
   "cell_type": "code",
   "execution_count": null,
   "metadata": {},
   "outputs": [],
   "source": [
    "# As of august 2022, this package is not installed in anaconda, so you'll have to use 'conda install -c conda-forge sweetviz' in an Anaconda prompt to install it.\n",
    "import sweetviz as sv\n",
    "import pandas as  pd"
   ]
  },
  {
   "cell_type": "code",
   "execution_count": null,
   "metadata": {},
   "outputs": [],
   "source": [
    "# bring your dataset to a pandas dataframe\n",
    "df = pd.read_csv('Pokemon.csv', index_col=0, encoding='unicode_escape')"
   ]
  },
  {
   "cell_type": "code",
   "execution_count": null,
   "metadata": {},
   "outputs": [],
   "source": [
    "# analyse the dataset with sweetviz\n",
    "pokemon_report = sv.analyze(df)"
   ]
  },
  {
   "cell_type": "code",
   "execution_count": null,
   "metadata": {},
   "outputs": [],
   "source": [
    "# save and display the analysis\n",
    "pokemon_report.show_html('pokemon_report.html')"
   ]
  },
  {
   "cell_type": "markdown",
   "metadata": {},
   "source": [
    "### Compare datasets\n",
    "\n",
    "You can also use sweetviz to compare two datasets, for example a train and a test dataset:"
   ]
  },
  {
   "cell_type": "code",
   "execution_count": null,
   "metadata": {},
   "outputs": [],
   "source": [
    "# just as an example, we'll compare the first half of the dataset with the second half\n",
    "pokemon_compare = sv.compare(df[75:], df[:75])\n",
    "pokemon_compare.show_html('pokemon_compare.html')"
   ]
  },
  {
   "cell_type": "markdown",
   "metadata": {},
   "source": [
    "### Compare intra dataset, based on a column value\n",
    "\n",
    "Imagine that you want to split your records by 'male' and 'female' and then compare them."
   ]
  },
  {
   "cell_type": "code",
   "execution_count": null,
   "metadata": {},
   "outputs": [],
   "source": [
    "pokemon_compare_intra = sv.compare_intra(df, df[\"Type 1\"] == 'Water', [\"Water\", \"Not Water\"])\n",
    "pokemon_compare_intra.show_html('pokemon_compare_intra.html')"
   ]
  }
 ],
 "metadata": {
  "kernelspec": {
   "display_name": "Python 3 (ipykernel)",
   "language": "python",
   "name": "python3"
  },
  "language_info": {
   "codemirror_mode": {
    "name": "ipython",
    "version": 3
   },
   "file_extension": ".py",
   "mimetype": "text/x-python",
   "name": "python",
   "nbconvert_exporter": "python",
   "pygments_lexer": "ipython3",
   "version": "3.10.5"
  }
 },
 "nbformat": 4,
 "nbformat_minor": 4
}
