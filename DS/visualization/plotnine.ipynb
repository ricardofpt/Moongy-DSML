{
 "cells": [
  {
   "cell_type": "markdown",
   "metadata": {},
   "source": [
    "# Plotnine - Grammar of graphics for Python"
   ]
  },
  {
   "cell_type": "markdown",
   "metadata": {},
   "source": [
    "Plotnine is an implementation of a grammar of graphics in Python, based on `ggplot2`. The grammar allows users to compose plots by explicitly mapping data to the visual objects that make up the plot.\n",
    "\n",
    "Plotting with a grammar is powerful, it makes custom (and otherwise complex) plots easy to think about and then create, while the simple plots remain simple. A grammar of graphics is a high-level tool that allows you to create data plots in an efficient and consistent way. It abstracts most low-level details, letting you focus on creating meaningful and beautiful visualizations for your data.\n",
    "\n",
    "It can be installed either by `pip install plotnine` or `conda install -c conda-forge plotnine` if you're using Anaconda."
   ]
  },
  {
   "cell_type": "markdown",
   "metadata": {},
   "source": [
    "## Quick example"
   ]
  },
  {
   "cell_type": "code",
   "execution_count": null,
   "metadata": {},
   "outputs": [],
   "source": [
    "from plotnine import *\n",
    "from plotnine.data import mtcars # just a sample dataset\n",
    "\n",
    "(ggplot(mtcars, aes('wt', 'mpg')) + geom_point())"
   ]
  },
  {
   "cell_type": "markdown",
   "metadata": {},
   "source": [
    "#### Scatter plot colored according to some variable"
   ]
  },
  {
   "cell_type": "code",
   "execution_count": null,
   "metadata": {},
   "outputs": [],
   "source": [
    "(ggplot(mtcars, aes('wt', 'mpg', color='factor(gear)'))\n",
    " + geom_point())"
   ]
  },
  {
   "cell_type": "markdown",
   "metadata": {},
   "source": [
    "#### Scatter plot colored according to some variable and smoothed with a linear model with confidence intervals"
   ]
  },
  {
   "cell_type": "code",
   "execution_count": null,
   "metadata": {},
   "outputs": [],
   "source": [
    "(ggplot(mtcars, aes('wt', 'mpg', color='factor(gear)'))\n",
    " + geom_point()\n",
    " + stat_smooth(method='lm'))"
   ]
  },
  {
   "cell_type": "markdown",
   "metadata": {},
   "source": [
    "#### Scatter plot colored according to some variable, smoothed with a linear model with confidence intervals and plotted on separate panels"
   ]
  },
  {
   "cell_type": "code",
   "execution_count": null,
   "metadata": {},
   "outputs": [],
   "source": [
    "(ggplot(mtcars, aes('wt', 'mpg', color='factor(gear)'))\n",
    " + geom_point()\n",
    " + stat_smooth(method='lm')\n",
    " + facet_wrap('~gear'))"
   ]
  },
  {
   "cell_type": "markdown",
   "metadata": {},
   "source": [
    "#### Change the theme and make it playful"
   ]
  },
  {
   "cell_type": "code",
   "execution_count": null,
   "metadata": {},
   "outputs": [],
   "source": [
    "(ggplot(mtcars, aes('wt', 'mpg', color='factor(gear)'))\n",
    " + geom_point()\n",
    " + stat_smooth(method='lm')\n",
    " + facet_wrap('~gear')\n",
    " + theme_xkcd())"
   ]
  },
  {
   "cell_type": "markdown",
   "metadata": {},
   "source": [
    "## Plotnine’s grammar of graphics\n",
    "\n",
    "The three required components for creating a plot are:\n",
    "\n",
    "1. **Data** is the information to use when creating the plot.\n",
    "2. Aesthetics (**aes**) provides a mapping between data variables and aesthetic, or graphical, variables used by the underlying drawing system. In the previous example, you mapped the `wt` and `mpg` data variables to the x and y axis aesthetic variables.\n",
    "3. Geometric objects (**geoms**) defines the type of geometric object to use in the drawing. You can use points, lines, bars, and many others.\n",
    "\n",
    "And there are other optional components that you can use:\n",
    "\n",
    "1. **Statistical transformations** specify computations and aggregations to be applied to the data before plotting it.\n",
    "2. **Scales** apply some transformation during the mapping from data to aesthetics. For example, sometimes you can use a logarithmic scale to better reflect some aspects of your data.\n",
    "3. **Facets** allow you to divide data into groups based on some attributes and then plot each group into a separate panel in the same graphic.\n",
    "4. **Coordinates systems** map the position of objects to a 2D graphical location in the plot. For example, you can choose to flip the vertical and horizontal axes if that makes more sense in the visualization you’re building.\n",
    "5. **Themes** allows you to control visual properties like colors, fonts, and shapes."
   ]
  },
  {
   "cell_type": "markdown",
   "metadata": {},
   "source": [
    "### Geometric objects (geoms)\n",
    "\n",
    "Plotnine has the following aesthetics available:"
   ]
  },
  {
   "cell_type": "markdown",
   "metadata": {},
   "source": [
    "#### Point"
   ]
  },
  {
   "cell_type": "code",
   "execution_count": null,
   "metadata": {},
   "outputs": [],
   "source": [
    "from plotnine.data import mpg # just a sample dataset\n",
    "ggplot(mpg) + aes(x=\"class\", y=\"trans\") + geom_point()"
   ]
  },
  {
   "cell_type": "markdown",
   "metadata": {},
   "source": [
    "#### Bar"
   ]
  },
  {
   "cell_type": "code",
   "execution_count": null,
   "metadata": {},
   "outputs": [],
   "source": [
    "ggplot(mpg) + aes(x=\"class\") + geom_bar()"
   ]
  },
  {
   "cell_type": "markdown",
   "metadata": {},
   "source": [
    "#### Boxplot"
   ]
  },
  {
   "cell_type": "code",
   "execution_count": null,
   "metadata": {},
   "outputs": [],
   "source": [
    "ggplot(mpg) + aes(x=\"class\", y=\"cty\") + geom_boxplot()"
   ]
  },
  {
   "cell_type": "markdown",
   "metadata": {},
   "source": [
    "#### Swarm plot"
   ]
  },
  {
   "cell_type": "code",
   "execution_count": null,
   "metadata": {},
   "outputs": [],
   "source": [
    "ggplot(mpg) + aes(x=\"class\", y=\"cty\") + geom_jitter()"
   ]
  },
  {
   "cell_type": "markdown",
   "metadata": {},
   "source": [
    "#### Boxplot + Swarm plot"
   ]
  },
  {
   "cell_type": "code",
   "execution_count": null,
   "metadata": {},
   "outputs": [],
   "source": [
    "ggplot(mpg) + aes(x=\"class\", y=\"cty\") + geom_boxplot() + geom_jitter()"
   ]
  },
  {
   "cell_type": "markdown",
   "metadata": {},
   "source": [
    "#### Histogram"
   ]
  },
  {
   "cell_type": "code",
   "execution_count": null,
   "metadata": {},
   "outputs": [],
   "source": [
    "ggplot(mpg) + aes(x=\"cty\") + geom_histogram(binwidth=5)"
   ]
  },
  {
   "cell_type": "markdown",
   "metadata": {},
   "source": [
    "#### Line"
   ]
  },
  {
   "cell_type": "code",
   "execution_count": null,
   "metadata": {},
   "outputs": [],
   "source": [
    "from plotnine.data import economics # just a sample dataset\n",
    "ggplot(economics) + aes(x=\"date\", y=\"pop\") + geom_line()"
   ]
  },
  {
   "cell_type": "markdown",
   "metadata": {},
   "source": [
    "### Statistical transformations\n",
    "\n",
    "In the quick example above there's one of the possible statistical transformations, the `stat_smooth` transformation, which applied a linear model on the data and showed it on the plot.\n",
    "\n",
    "Here's another example, using `stat_count`:"
   ]
  },
  {
   "cell_type": "code",
   "execution_count": null,
   "metadata": {},
   "outputs": [],
   "source": [
    "ggplot(mpg) + stat_count(mapping=aes(x=\"manufacturer\")) + theme(figure_size=(11, 4.8))"
   ]
  },
  {
   "cell_type": "markdown",
   "metadata": {},
   "source": [
    "### Scales\n",
    "\n",
    "Plot legibility can be improved using scales. Here's how we could improve the plot above to a more meaningful representation:"
   ]
  },
  {
   "cell_type": "code",
   "execution_count": null,
   "metadata": {},
   "outputs": [],
   "source": [
    "(\n",
    "ggplot(economics)\n",
    "    + aes(x=\"date\", y=\"pop\")\n",
    "    + scale_x_timedelta(name=\"Years since 1970\")# this scale transforms each point’s x-value by computing its difference from the oldest date in the dataset\n",
    "    + geom_line()\n",
    ")"
   ]
  },
  {
   "cell_type": "markdown",
   "metadata": {},
   "source": [
    "### Facets\n",
    "\n",
    "When your x axis is a categorical dimension, you can use facets to create individual plots for each category.\n",
    "\n",
    "For example, we could apply facets to the swarm plot above to give us a better understanding of the data (and introducing an extra metric, `hwy`):"
   ]
  },
  {
   "cell_type": "code",
   "execution_count": null,
   "metadata": {},
   "outputs": [],
   "source": [
    "(\n",
    "    ggplot(mpg)\n",
    "    + facet_wrap(\"~class\", nrow=2)\n",
    "    + aes(x=\"cty\", y=\"hwy\")\n",
    "    + geom_point()\n",
    ")"
   ]
  },
  {
   "cell_type": "markdown",
   "metadata": {},
   "source": [
    "We can even add extra facet, to further refine the data (in this example we'll introduce the `year` metric):"
   ]
  },
  {
   "cell_type": "code",
   "execution_count": null,
   "metadata": {},
   "outputs": [],
   "source": [
    "(\n",
    "    ggplot(mpg)\n",
    "    + facet_grid(facets=\"year~class\")\n",
    "    + aes(x=\"cty\", y=\"hwy\")\n",
    "    + geom_point()\n",
    ")"
   ]
  },
  {
   "cell_type": "markdown",
   "metadata": {},
   "source": [
    "### Coordinates systems\n",
    "\n",
    "For example, you can easily rotate a plot:"
   ]
  },
  {
   "cell_type": "code",
   "execution_count": null,
   "metadata": {},
   "outputs": [],
   "source": [
    "(\n",
    "ggplot(mpg) \n",
    "    + aes(x=\"class\") \n",
    "    + geom_bar() \n",
    "    + coord_flip()\n",
    ")"
   ]
  },
  {
   "cell_type": "markdown",
   "metadata": {},
   "source": [
    "### Themes\n",
    "\n",
    "Plotnine has buil-in themes that you can use to globally style your plots.\n",
    "\n",
    "In the quick example above you've seen the `xkcd` theme, but there are others you can use (check all the themes [here](https://plotnine.readthedocs.io/en/stable/api.html#themes)):"
   ]
  },
  {
   "cell_type": "code",
   "execution_count": null,
   "metadata": {},
   "outputs": [],
   "source": [
    "(\n",
    "    ggplot(mpg)\n",
    "    + facet_grid(facets=\"year~class\")\n",
    "    + aes(x=\"cty\", y=\"hwy\")\n",
    "    + geom_point()\n",
    "    + theme_dark()\n",
    ")"
   ]
  },
  {
   "cell_type": "code",
   "execution_count": null,
   "metadata": {},
   "outputs": [],
   "source": [
    "(\n",
    "    ggplot(mpg)\n",
    "    + facet_grid(facets=\"year~class\")\n",
    "    + aes(x=\"cty\", y=\"hwy\")\n",
    "    + geom_point()\n",
    "    + theme_minimal()\n",
    ")"
   ]
  },
  {
   "cell_type": "code",
   "execution_count": null,
   "metadata": {},
   "outputs": [],
   "source": [
    "(\n",
    "    ggplot(mpg)\n",
    "    + facet_grid(facets=\"year~class\")\n",
    "    + aes(x=\"cty\", y=\"hwy\")\n",
    "    + geom_point()\n",
    "    + theme_seaborn()\n",
    ")"
   ]
  },
  {
   "cell_type": "markdown",
   "metadata": {},
   "source": [
    "### Customizations"
   ]
  },
  {
   "cell_type": "markdown",
   "metadata": {},
   "source": [
    "#### `aes` - categorize by color\n",
    "\n",
    "The `color` argument in `aes()` enables you to add a third dimension to your plot, based on a category:"
   ]
  },
  {
   "cell_type": "code",
   "execution_count": null,
   "metadata": {},
   "outputs": [],
   "source": [
    "(\n",
    "    ggplot(mpg)\n",
    "    + aes(x=\"cyl\", y=\"hwy\", color=\"class\")\n",
    "    + geom_point()\n",
    ")"
   ]
  },
  {
   "cell_type": "markdown",
   "metadata": {},
   "source": [
    "#### `aes` - categorize by shape\n",
    "\n",
    "We can also categorize by shape:"
   ]
  },
  {
   "cell_type": "code",
   "execution_count": null,
   "metadata": {},
   "outputs": [],
   "source": [
    "(\n",
    "    ggplot(mpg)\n",
    "    + aes(x=\"cyl\", y=\"hwy\", shape=\"class\")\n",
    "    + geom_point()\n",
    ")"
   ]
  },
  {
   "cell_type": "markdown",
   "metadata": {},
   "source": [
    "#### `aes` - categorize by alpha\n",
    "\n",
    "Or even by alpha:"
   ]
  },
  {
   "cell_type": "code",
   "execution_count": null,
   "metadata": {},
   "outputs": [],
   "source": [
    "(\n",
    "    ggplot(mpg)\n",
    "    + aes(x=\"cyl\", y=\"hwy\", alpha=\"class\")\n",
    "    + geom_point()\n",
    ")"
   ]
  },
  {
   "cell_type": "markdown",
   "metadata": {},
   "source": [
    "The `size` argument in enables you to add a size dimension to your plot, based on a quantity:"
   ]
  },
  {
   "cell_type": "code",
   "execution_count": null,
   "metadata": {},
   "outputs": [],
   "source": [
    "(\n",
    "    ggplot(mpg)\n",
    "    + aes(x=\"cyl\", y=\"hwy\", color=\"class\", size=\"cty\")\n",
    "    + geom_point()\n",
    ")"
   ]
  },
  {
   "cell_type": "markdown",
   "metadata": {},
   "source": [
    "#### `geom`\n",
    "\n",
    "Add arguments to the chosen `geom` to customize it. Beware that some of these properties will override the `class` and `size` arguments in `aes`."
   ]
  },
  {
   "cell_type": "code",
   "execution_count": null,
   "metadata": {},
   "outputs": [],
   "source": [
    "(\n",
    "    ggplot(mpg)\n",
    "    + aes(x=\"cyl\", y=\"hwy\", color=\"class\", size=\"cty\") # class and size have been overriden by color and size in the geom\n",
    "    + geom_point(color='cornflowerblue', alpha = 0.5, size = 0.75)\n",
    ")"
   ]
  },
  {
   "cell_type": "markdown",
   "metadata": {},
   "source": [
    "#### Labels\n",
    "\n",
    "Adding `labs()` to a plot allows you to edit the plot's title, axes titles and legend titles:"
   ]
  },
  {
   "cell_type": "code",
   "execution_count": null,
   "metadata": {},
   "outputs": [],
   "source": [
    "(\n",
    "    ggplot(mpg)\n",
    "    + aes(x=\"cyl\", y=\"hwy\", color=\"class\", size=\"cty\")\n",
    "    + labs(\n",
    "        x=\"Engine Cylinders\",\n",
    "        y=\"Miles per Gallon\",\n",
    "        color=\"Vehicle Class\",\n",
    "        size=\"MPG - City\",\n",
    "        title=\"Miles per Gallon for Engine Cylinders and Vehicle Classes\",\n",
    "    )\n",
    "    + geom_point(alpha = 0.5)\n",
    ")"
   ]
  },
  {
   "cell_type": "markdown",
   "metadata": {},
   "source": [
    "#### Adding labels inside the plot\n",
    "\n",
    "By using the `geom_text()`, it's possible to add labels inside the plot, like in the example below:"
   ]
  },
  {
   "cell_type": "code",
   "execution_count": null,
   "metadata": {},
   "outputs": [],
   "source": [
    "(\n",
    "    ggplot(mpg)\n",
    "    + aes(x=\"cyl\", y=\"hwy\", color=\"class\", size=\"cty\")\n",
    "    + labs(\n",
    "        x=\"Engine Cylinders\",\n",
    "        y=\"Miles per Gallon - Highway\",\n",
    "        color=\"Vehicle Class\",\n",
    "        size=\"MPG - City\",\n",
    "        title=\"Miles per Gallon for Engine Cylinders and Vehicle Classes\",\n",
    "    )\n",
    "    + geom_point(alpha = 0.5)\n",
    "    + geom_text(\n",
    "        aes(x='cyl', y='hwy', label='manufacturer'),\n",
    "        data=mpg[(mpg['cty'] < 10) | (mpg['cty'] > 26)],\n",
    "        color=\"grey\",\n",
    "        size=\"8\",\n",
    "        nudge_x = .3)\n",
    "    + theme_classic()\n",
    "    + theme(axis_line=element_line(color=\"grey\"), axis_ticks=element_line(color = \"grey\"))\n",
    ")"
   ]
  },
  {
   "cell_type": "markdown",
   "metadata": {},
   "source": [
    "### Exporting plots\n",
    "\n",
    "Plots can be easily exported to image files:"
   ]
  },
  {
   "cell_type": "code",
   "execution_count": null,
   "metadata": {},
   "outputs": [],
   "source": [
    "my_plot = (\n",
    "    ggplot(mpg)\n",
    "    + aes(x=\"cyl\", y=\"hwy\", color=\"class\")\n",
    "    + labs(\n",
    "        x=\"Engine Cylinders\",\n",
    "        y=\"Miles per Gallon\",\n",
    "        color=\"Vehicle Class\",\n",
    "        title=\"Miles per Gallon for Engine Cylinders and Vehicle Classes\",\n",
    "    )\n",
    "    + geom_point()\n",
    ")\n",
    "my_plot.save(\"plotnine.png\", dpi=100)"
   ]
  }
 ],
 "metadata": {
  "kernelspec": {
   "display_name": "Python 3",
   "language": "python",
   "name": "python3"
  },
  "language_info": {
   "codemirror_mode": {
    "name": "ipython",
    "version": 3
   },
   "file_extension": ".py",
   "mimetype": "text/x-python",
   "name": "python",
   "nbconvert_exporter": "python",
   "pygments_lexer": "ipython3",
   "version": "3.9.4"
  }
 },
 "nbformat": 4,
 "nbformat_minor": 4
}
