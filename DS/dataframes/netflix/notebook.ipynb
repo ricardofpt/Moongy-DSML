{
 "cells": [
  {
   "cell_type": "markdown",
   "metadata": {},
   "source": [
    "# Analyzing our netflix activity\n",
    "\n",
    "If you're a Netflix customer, you can see/download/delete all the data about your usage that they use to recommend new shows to you, based on your history.\n",
    "\n",
    "Here we have just a small sample of such history.\n",
    "\n",
    "The purpose here is to measure our addictiveness to *The Office* show."
   ]
  },
  {
   "cell_type": "markdown",
   "metadata": {},
   "source": [
    "## Data prep"
   ]
  },
  {
   "cell_type": "markdown",
   "metadata": {},
   "source": [
    "### Load and have a look at the data"
   ]
  },
  {
   "cell_type": "code",
   "execution_count": null,
   "metadata": {},
   "outputs": [],
   "source": [
    "import pandas as pd\n",
    "pd.set_option('display.max_columns', None)\n",
    "pd.set_option('display.max_rows', None)"
   ]
  },
  {
   "cell_type": "code",
   "execution_count": null,
   "metadata": {},
   "outputs": [],
   "source": [
    "data = pd.read_csv('ViewingActivity-sample.csv')"
   ]
  },
  {
   "cell_type": "code",
   "execution_count": null,
   "metadata": {},
   "outputs": [],
   "source": [
    "data.head()"
   ]
  },
  {
   "cell_type": "code",
   "execution_count": null,
   "metadata": {},
   "outputs": [],
   "source": [
    "data.shape"
   ]
  },
  {
   "cell_type": "markdown",
   "metadata": {},
   "source": [
    "### Issues\n",
    "\n",
    "The `Start Time` column is in UTC, while the user is in New York (Eastern US), so we'll have to convert it to his timezone.\n",
    "\n",
    "The `Title` column holds both the name of the show and the watched episode, so we'll have to figure out a way to take care of this to filter only the rows of *The Office* show. "
   ]
  },
  {
   "cell_type": "markdown",
   "metadata": {},
   "source": [
    "### Dropping unnecessary columns (optional)\n",
    "\n",
    "For the purpose of this exercise we'll only be needing the `Start Time`, `Duration` and `Title` columns, so we can get rid of the rest to save memory."
   ]
  },
  {
   "cell_type": "code",
   "execution_count": null,
   "metadata": {},
   "outputs": [],
   "source": [
    "data = data.drop(['Profile Name', 'Attributes', 'Supplemental Video Type', 'Device Type', 'Bookmark', 'Latest Bookmark', 'Country'], axis=1)\n",
    "data.head()"
   ]
  },
  {
   "cell_type": "markdown",
   "metadata": {},
   "source": [
    "### Renaming columns for easier access (optional)\n",
    "\n",
    "Having to constantly type capital letters and spaces is boring. Let's quickly rename our column names?"
   ]
  },
  {
   "cell_type": "code",
   "execution_count": null,
   "metadata": {},
   "outputs": [],
   "source": [
    "data.columns = [col.replace(' ', '_').lower() for col in data]\n",
    "data.head()"
   ]
  },
  {
   "cell_type": "markdown",
   "metadata": {},
   "source": [
    "### Issue 1 - converting strings to datetime and timedelta\n",
    "\n",
    "So we have to work with dates to solve this one. Are your `start_time` and `duration` columns already of the datetime datatype?"
   ]
  },
  {
   "cell_type": "code",
   "execution_count": null,
   "metadata": {},
   "outputs": [],
   "source": [
    "data.dtypes"
   ]
  },
  {
   "cell_type": "markdown",
   "metadata": {},
   "source": [
    "They are not. So here's what we'll have to do:\n",
    "\n",
    "1. Convert `start_time` to datetime (a data and time format pandas can understand and perform calculations with)\n",
    "2. Convert `start_time` from UTC to the eastern US timezone\n",
    "3. Convert `duration` to timedelta (a time duration format pandas can understand and perform calculations with)"
   ]
  },
  {
   "cell_type": "markdown",
   "metadata": {},
   "source": [
    "#### #1"
   ]
  },
  {
   "cell_type": "code",
   "execution_count": null,
   "metadata": {},
   "outputs": [],
   "source": [
    "data['start_time'] = pd.to_datetime(data['start_time'], utc=True)\n",
    "data.dtypes"
   ]
  },
  {
   "cell_type": "markdown",
   "metadata": {},
   "source": [
    "#### #2\n",
    "\n",
    "We'll be using the `tz_convert()` method here.\n",
    "\n",
    "The tricky part is that we can only use `tz_convert()` on a DatetimeIndex, so we need to set our `start_time` column as the index using `set_index()` before we perform the conversion (we'll have to find out how to select an index in a pandas dataframe). We'll then use `reset_index()` to turn it back into a regular column afterwards."
   ]
  },
  {
   "cell_type": "code",
   "execution_count": null,
   "metadata": {},
   "outputs": [],
   "source": [
    "data = data.set_index('start_time')\n",
    "\n",
    "# convert from UTC timezone to eastern time\n",
    "data.index = data.index.tz_convert('US/Eastern')\n",
    "\n",
    "# reset the index so that start_time becomes a column again\n",
    "data = data.reset_index()\n",
    "\n",
    "data.head()"
   ]
  },
  {
   "cell_type": "markdown",
   "metadata": {},
   "source": [
    "#### #3"
   ]
  },
  {
   "cell_type": "code",
   "execution_count": null,
   "metadata": {},
   "outputs": [],
   "source": [
    "data['duration'] = pd.to_timedelta(data['duration'])\n",
    "data.dtypes"
   ]
  },
  {
   "cell_type": "markdown",
   "metadata": {},
   "source": [
    "### Issue 2 - filtering strings by substring\n",
    "\n",
    "There are many ways we could approach filtering *The Office* views. For our purposes here, though, we're going to create a new dataframe called `office` and populate it only with rows where the `title` column contains *The Office (U.S.)*.\n",
    "\n",
    "Hint: we can do this using `str.contains()`"
   ]
  },
  {
   "cell_type": "code",
   "execution_count": null,
   "metadata": {},
   "outputs": [],
   "source": [
    "office = data[data['title'].str.contains('The Office (U.S.)', regex=False)]\n",
    "\n",
    "office.head()"
   ]
  },
  {
   "cell_type": "markdown",
   "metadata": {},
   "source": [
    "### Filtering out short durations using timedelta\n",
    "\n",
    "As you might have noticed, we have very small durations in the dataset. That's mainly because watching a preview also counts as a view.\n",
    "\n",
    "So let's filter out all the views that have a duration of less than a minute."
   ]
  },
  {
   "cell_type": "code",
   "execution_count": null,
   "metadata": {},
   "outputs": [],
   "source": [
    "office = office[(office['duration'] > '0 days 00:01:00')]\n",
    "\n",
    "office.head()"
   ]
  },
  {
   "cell_type": "markdown",
   "metadata": {},
   "source": [
    "## Analyzing the Data"
   ]
  },
  {
   "cell_type": "markdown",
   "metadata": {},
   "source": [
    "### How much time have I spent watching *The Office*?"
   ]
  },
  {
   "cell_type": "code",
   "execution_count": null,
   "metadata": {},
   "outputs": [],
   "source": [
    "print(office['duration'].sum())"
   ]
  },
  {
   "cell_type": "markdown",
   "metadata": {},
   "source": [
    "### When do I watch The Office?\n",
    "\n",
    "Let's answer this question in two different ways:\n",
    "\n",
    "1. On which days of the week have I watched the most *Office* episodes?\n",
    "2. During which hours of the day do I most often start *Office* episodes?\n",
    "\n",
    "We'll start with a little prep work that'll make these tasks a little more straightforward: creating new columns for `weekday` and `hour`."
   ]
  },
  {
   "cell_type": "code",
   "execution_count": null,
   "metadata": {},
   "outputs": [],
   "source": [
    "weekdays = office['start_time'].dt.day_name()\n",
    "office['weekday'] = weekdays\n",
    "\n",
    "hours = office['start_time'].dt.hour\n",
    "office['hour'] = hours\n",
    "\n",
    "office.head()"
   ]
  },
  {
   "cell_type": "markdown",
   "metadata": {},
   "source": [
    "#### #1"
   ]
  },
  {
   "cell_type": "code",
   "execution_count": null,
   "metadata": {},
   "outputs": [],
   "source": [
    "# set our categorical and define the order so the days are plotted Monday-Sunday\n",
    "office['weekday'] = pd.Categorical(office['weekday'], \n",
    "    categories=['Monday', 'Tuesday', 'Wednesday', 'Thursday', 'Friday', 'Saturday', 'Sunday'],\n",
    "    ordered=True)\n",
    "\n",
    "office.dtypes"
   ]
  },
  {
   "cell_type": "code",
   "execution_count": null,
   "metadata": {},
   "outputs": [],
   "source": [
    "office_by_day = office['weekday'].value_counts()\n",
    "\n",
    "office_by_day"
   ]
  },
  {
   "cell_type": "code",
   "execution_count": null,
   "metadata": {},
   "outputs": [],
   "source": [
    "office_by_day = office_by_day.sort_index()\n",
    "office_by_day.head()"
   ]
  },
  {
   "cell_type": "code",
   "execution_count": null,
   "metadata": {},
   "outputs": [],
   "source": [
    "office_by_day.plot(kind='bar', figsize=(10,6), title='Office Episodes Watched by Week Day', rot=0);"
   ]
  },
  {
   "cell_type": "markdown",
   "metadata": {},
   "source": [
    "#### #2"
   ]
  },
  {
   "cell_type": "code",
   "execution_count": null,
   "metadata": {},
   "outputs": [],
   "source": [
    "# set our categorical and define the order so the hours are plotted 0-23\n",
    "office['hour'] = pd.Categorical(office['hour'], categories=list(range(0,24)), ordered=True)\n",
    "\n",
    "office.dtypes"
   ]
  },
  {
   "cell_type": "code",
   "execution_count": null,
   "metadata": {},
   "outputs": [],
   "source": [
    "office_by_hour = office['hour'].value_counts()\n",
    "\n",
    "office_by_hour.head()"
   ]
  },
  {
   "cell_type": "code",
   "execution_count": null,
   "metadata": {},
   "outputs": [],
   "source": [
    "office_by_hour = office_by_hour.sort_index()\n",
    "\n",
    "office_by_hour.head()"
   ]
  },
  {
   "cell_type": "code",
   "execution_count": null,
   "metadata": {},
   "outputs": [],
   "source": [
    "office_by_hour.plot(kind='bar', figsize=(10,6), title='Office Episodes Watched by Hour', rot=0);"
   ]
  }
 ],
 "metadata": {
  "kernelspec": {
   "display_name": "Python 3 (ipykernel)",
   "language": "python",
   "name": "python3"
  },
  "language_info": {
   "codemirror_mode": {
    "name": "ipython",
    "version": 3
   },
   "file_extension": ".py",
   "mimetype": "text/x-python",
   "name": "python",
   "nbconvert_exporter": "python",
   "pygments_lexer": "ipython3",
   "version": "3.11.5"
  },
  "toc-autonumbering": false,
  "toc-showcode": false,
  "toc-showmarkdowntxt": false,
  "toc-showtags": false
 },
 "nbformat": 4,
 "nbformat_minor": 4
}
