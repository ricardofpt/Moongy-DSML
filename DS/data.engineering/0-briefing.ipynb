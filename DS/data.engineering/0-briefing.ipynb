{
 "cells": [
  {
   "cell_type": "markdown",
   "metadata": {},
   "source": [
    "# Course project\n",
    "\n",
    "The main goal of this project is to provide a comprehensive data science project, from raw data gathering to machine learning.\n",
    "\n",
    "You'll extract data from multiple sources, find the best way to join the data and finally clean and transform it. \n",
    "\n",
    "With the data part ready, you will then enter the world of statistics, probabilities and visualization to get insights from the data.\n",
    "\n",
    "Finally, you will try to forecast or predict the future, based on the data available.\n",
    "\n",
    "The data for this project is from a ficticious DVD rental company: \n",
    "\n",
    "1. there are stores, staff and customers\n",
    "2. each store has a film inventory for customers to rent\n",
    "3. customers rent movies and pay for those rentals"
   ]
  },
  {
   "cell_type": "markdown",
   "metadata": {},
   "source": [
    "## Data sources\n",
    "\n",
    "There are multiple data sources for you to practice data gathering. By the end of it you'll have a pretty good picture of how to get data from several different channels.\n",
    "\n",
    "Here's a list of all data sources:\n",
    "\n",
    "* an sql database of films - `films.db`\n",
    "* an excel file with customer data exported from a CRM software - `customer_list.xlsx`\n",
    "* two html files with store and staff data, scraped from a website - `stores.html` and `staff.html`\n",
    "* one json file with payment data, as a result of API call - `payments.json`\n",
    "* two csv files with inventory data for each store - `inventory-store-1.csv` and `inventory-store-2.csv`\n",
    "* multiple txt files with rental data, exported from an automated rental machine - folder `rentals`\n"
   ]
  },
  {
   "cell_type": "markdown",
   "metadata": {},
   "source": [
    "## Data location\n",
    "\n",
    "As you might have noticed, not all these data sources are in your project folder. Here's the location of all of them:\n",
    "\n",
    "* `films.db` - project folder\n",
    "* `customer_list.xlsx` - https://drive.google.com/drive/folders/1zT3InF4rq_fvTLO6F7x4KaTfdwb_d1OS?usp=sharing\n",
    "* `stores.html` and `staff.html` - http://clevernet.pt/python_course/stores.html and http://clevernet.pt/python_course/staff.html\n",
    "* `payments.json` - project folder\n",
    "* `inventory-store-1.csv` and `inventory-store-2.csv` (zipped) - https://drive.google.com/drive/folders/1zT3InF4rq_fvTLO6F7x4KaTfdwb_d1OS?usp=sharing\n",
    "* `rentals` files - a FTP account "
   ]
  },
  {
   "cell_type": "markdown",
   "metadata": {},
   "source": [
    "## Phase 1 - Extraction\n",
    "\n",
    "The first task is to get all the data from those multiple locations. You'll have to use several tools that python has at your disposal in order to build some type of connectors to tap into the data and retrieve it.\n",
    "\n",
    "Don't forget that the more automatized the process is, the less time and human interaction is needed to perform the operations (in real life, this fine-graining usually happens as time goes by and your application evolves).\n",
    "\n",
    "Open *1-extraction.ipynb* to see this phase."
   ]
  }
 ],
 "metadata": {
  "kernelspec": {
   "display_name": "Python 3",
   "language": "python",
   "name": "python3"
  },
  "language_info": {
   "codemirror_mode": {
    "name": "ipython",
    "version": 3
   },
   "file_extension": ".py",
   "mimetype": "text/x-python",
   "name": "python",
   "nbconvert_exporter": "python",
   "pygments_lexer": "ipython3",
   "version": "3.9.4"
  }
 },
 "nbformat": 4,
 "nbformat_minor": 4
}
