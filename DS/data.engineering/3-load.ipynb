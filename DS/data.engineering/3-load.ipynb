{
 "cells": [
  {
   "cell_type": "markdown",
   "id": "964e94df-0d67-4265-b8e5-c5fbd799050f",
   "metadata": {},
   "source": [
    "# Phase 3 - Load\n",
    "\n",
    "This phase is simply migrating the data to it's final location.\n",
    "\n",
    "The main objective of a data warehouse is to decouple the transformed data from it's raw version. With this we also decouple two different operations: data processing and data analysis.\n",
    "\n",
    "If both operations were to be done in the same location at the same time, a lot more resources would have to be allocated to satisfy both needs. \n",
    "\n",
    "The same is true in terms of security, we must prevent some junior analyst from accidentally deleting data.\n",
    "\n",
    "We could just use the temp table we created in the previous phase as our data warehouse, but let's make it a permanent table instead, so that it's always available to us.\n",
    "\n",
    "So this phase has a single step:\n",
    "\n",
    "1. We'll create a new table, called `warehouse`, and import the data in the `joined_data` view into the `warehouse` table\n",
    "\n",
    "We'll be doing this directly from python using the `sqlite3` package.\n",
    "\n",
    "Notice that if you were going to migrate the table to another database, it would be very beneficial to recreate the indexes there as well to keep the queries performant."
   ]
  },
  {
   "cell_type": "markdown",
   "id": "4fa8d704-c3be-4656-bce2-548c90541f80",
   "metadata": {},
   "source": [
    "## 1. Create new table and import data"
   ]
  },
  {
   "cell_type": "code",
   "execution_count": 18,
   "id": "89855dc5-bbf4-4d7e-ab26-27caefda9735",
   "metadata": {},
   "outputs": [],
   "source": [
    "import sqlite3\n",
    "\n",
    "# this will connect to an existing database, or create and then connect to a new database\n",
    "conn = sqlite3.connect('data_sources/films-data.lake.finished.db')  \n",
    "cursor = conn.cursor()\n",
    "\n",
    "cursor.execute('''\n",
    "create table warehouse as\n",
    "    select * from joined_data\n",
    "''')\n",
    "\n",
    "conn.commit()"
   ]
  },
  {
   "cell_type": "markdown",
   "id": "d58e8b30-7f54-40b9-8782-da3ac9bdb2d8",
   "metadata": {},
   "source": [
    "### Check if it was successfull"
   ]
  },
  {
   "cell_type": "code",
   "execution_count": 19,
   "id": "9e1a23c0-aea4-4b7e-b0e3-bc08245400f2",
   "metadata": {},
   "outputs": [
    {
     "data": {
      "text/plain": [
       "[(16044,)]"
      ]
     },
     "execution_count": 19,
     "metadata": {},
     "output_type": "execute_result"
    }
   ],
   "source": [
    "cursor.execute('select count(*) from warehouse')\n",
    "cursor.fetchall()"
   ]
  },
  {
   "cell_type": "code",
   "execution_count": 21,
   "id": "20cc11e8-31fe-4d2f-b156-46298e4a7e54",
   "metadata": {},
   "outputs": [
    {
     "data": {
      "text/plain": [
       "[(16044,)]"
      ]
     },
     "execution_count": 21,
     "metadata": {},
     "output_type": "execute_result"
    }
   ],
   "source": [
    "cursor.execute('select count(*) from joined_data')\n",
    "cursor.fetchall()"
   ]
  }
 ],
 "metadata": {
  "kernelspec": {
   "display_name": "Python 3",
   "language": "python",
   "name": "python3"
  },
  "language_info": {
   "codemirror_mode": {
    "name": "ipython",
    "version": 3
   },
   "file_extension": ".py",
   "mimetype": "text/x-python",
   "name": "python",
   "nbconvert_exporter": "python",
   "pygments_lexer": "ipython3",
   "version": "3.9.5"
  }
 },
 "nbformat": 4,
 "nbformat_minor": 5
}
